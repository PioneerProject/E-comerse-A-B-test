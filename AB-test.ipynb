{
 "cells": [
  {
   "cell_type": "markdown",
   "id": "cedb3afa",
   "metadata": {},
   "source": [
    "# Проект A/B тестирование"
   ]
  },
  {
   "cell_type": "markdown",
   "id": "18f2b050",
   "metadata": {},
   "source": [
    "## Описание цели исследования\n",
    "\n",
    "Проверить результаты проведенного А/В тестирования и определить присутствует ли улучшение метрики на 10%"
   ]
  },
  {
   "cell_type": "markdown",
   "id": "c7d27c89",
   "metadata": {},
   "source": [
    "## План исследования\n",
    "\n",
    "1. Подготовительный этап.\\\n",
    "    1.1 Импорт необходимых библиотек\\\n",
    "    1.2 Загрузка данных в переменные\\\n",
    "    1.3 Ознакомление с данными\\\n",
    "    1.4 Выводы по разделу\n",
    "\n",
    "2. Предобработка данных\\\n",
    "    2.1 Приведение данных к соответствующим типам\\\n",
    "    2.2 Исследование пропусков и дубликатов\\\n",
    "    2.3 Выводы по разделу\n",
    "\n",
    "3. Оценка корректности проведение теста\\\n",
    "    3.1 Изучение соответствия данных требованиям технического задания. Проверить корректность всех пунктов ТЗ\\\n",
    "    3.2 Проверка соответствия времени проведения теста маркетинговым и  другим активностям\\\n",
    "    3.3 Проверка пересечения с конкурирующими тестами и пересечение аудитории в тестах друг с другом.\\\n",
    "    3.4 Проверка на равномерность распределения по тестовым группам и правильность их формирования\\\n",
    "    3.5 Выводы по разделу\n",
    "\n",
    "4. Исследовательский анализ данных\\\n",
    "    4.1 Количество событий на пользователя одинаково распределены в выборках?\\\n",
    "    4.2 Как число событий в выборках распределено по дням?\\\n",
    "    4.3 Как меняется конверсия в воронке в выборках на разных этапах?\\\n",
    "    4.4 Какие особенности данных нужно учесть, прежде чем приступать к A/B-тестированию?\\\n",
    "    4.5 Выводы по разделу\n",
    "\n",
    "5. Оценка результатов А/В-тестирования\\\n",
    "    5.1 Что можно сказать про результаты A/В-тестирования?\\\n",
    "    5.2 Проверьте статистическую разницу долей z-критерием.\\\n",
    "    5.3 Выводы по разделу\n",
    "\n",
    "6.  Общие выводы по этапу исследовательского анализа данных и по проведённой оценке результатов A/B-тестирования. Заключение о корректности проведения теста.\n"
   ]
  },
  {
   "cell_type": "markdown",
   "id": "6af0deed",
   "metadata": {},
   "source": [
    "## Подготовительный этап"
   ]
  },
  {
   "cell_type": "markdown",
   "id": "6f030d7a",
   "metadata": {},
   "source": [
    "### Импорт необходимых библиотек"
   ]
  },
  {
   "cell_type": "code",
   "execution_count": 1,
   "id": "bbe1b2f8",
   "metadata": {},
   "outputs": [],
   "source": [
    "import pandas as pd\n",
    "import scipy.stats as st\n",
    "from statsmodels. stats.proportion import proportions_ztest\n",
    "import datetime as dt\n",
    "import numpy as np\n",
    "import math as mth\n",
    "import matplotlib.pyplot as plt\n",
    "from pandas.plotting import register_matplotlib_converters\n",
    "from plotly import graph_objects as go\n",
    "import plotly.express as px\n",
    "import seaborn as sns\n",
    "import warnings"
   ]
  },
  {
   "cell_type": "markdown",
   "id": "a48f582a",
   "metadata": {},
   "source": [
    "### Загрузка данных в переменные"
   ]
  },
  {
   "cell_type": "code",
   "execution_count": 2,
   "id": "b11c94f0",
   "metadata": {},
   "outputs": [],
   "source": [
    "# Используется конструкция try except для избегания ошибок при разночтении маршрутов загрузки исходных данных\n",
    "# Данные из исходный файлов загружаем в соответствующие названиям переменные\n",
    "try:\n",
    "    ab_project_marketing_events = pd.read_csv('./datasets/ab_project_marketing_events.csv')\n",
    "    final_ab_new_users = pd.read_csv('./datasets/final_ab_new_users.csv')\n",
    "    final_ab_events = pd.read_csv('./datasets/final_ab_events.csv')\n",
    "    final_ab_participants = pd.read_csv('./datasets/final_ab_participants.csv')\n",
    "except:\n",
    "    ab_project_marketing_events = pd.read_csv('/datasets/ab_project_marketing_events.csv')\n",
    "    final_ab_new_users = pd.read_csv('/datasets/final_ab_new_users.csv')\n",
    "    final_ab_events = pd.read_csv('/datasets/final_ab_events.csv')\n",
    "    final_ab_participants = pd.read_csv('/datasets/final_ab_participants.csv')"
   ]
  },
  {
   "cell_type": "markdown",
   "id": "60ee56ff",
   "metadata": {},
   "source": [
    "### Ознакомление с данными"
   ]
  },
  {
   "cell_type": "markdown",
   "id": "c10a32dd",
   "metadata": {},
   "source": [
    "#### Ознакомление с final_ab_events"
   ]
  },
  {
   "cell_type": "markdown",
   "id": "ffb164fa",
   "metadata": {},
   "source": [
    "В данных final_ab_events хранятся действия новых пользователей в период с 7 декабря 2020 по 4 января 2021 года."
   ]
  },
  {
   "cell_type": "code",
   "execution_count": 3,
   "id": "14e019be",
   "metadata": {},
   "outputs": [
    {
     "data": {
      "text/html": [
       "<div>\n",
       "<style scoped>\n",
       "    .dataframe tbody tr th:only-of-type {\n",
       "        vertical-align: middle;\n",
       "    }\n",
       "\n",
       "    .dataframe tbody tr th {\n",
       "        vertical-align: top;\n",
       "    }\n",
       "\n",
       "    .dataframe thead th {\n",
       "        text-align: right;\n",
       "    }\n",
       "</style>\n",
       "<table border=\"1\" class=\"dataframe\">\n",
       "  <thead>\n",
       "    <tr style=\"text-align: right;\">\n",
       "      <th></th>\n",
       "      <th>user_id</th>\n",
       "      <th>event_dt</th>\n",
       "      <th>event_name</th>\n",
       "      <th>details</th>\n",
       "    </tr>\n",
       "  </thead>\n",
       "  <tbody>\n",
       "    <tr>\n",
       "      <th>0</th>\n",
       "      <td>E1BDDCE0DAFA2679</td>\n",
       "      <td>2020-12-07 20:22:03</td>\n",
       "      <td>purchase</td>\n",
       "      <td>99.99</td>\n",
       "    </tr>\n",
       "    <tr>\n",
       "      <th>1</th>\n",
       "      <td>7B6452F081F49504</td>\n",
       "      <td>2020-12-07 09:22:53</td>\n",
       "      <td>purchase</td>\n",
       "      <td>9.99</td>\n",
       "    </tr>\n",
       "    <tr>\n",
       "      <th>2</th>\n",
       "      <td>9CD9F34546DF254C</td>\n",
       "      <td>2020-12-07 12:59:29</td>\n",
       "      <td>purchase</td>\n",
       "      <td>4.99</td>\n",
       "    </tr>\n",
       "    <tr>\n",
       "      <th>3</th>\n",
       "      <td>96F27A054B191457</td>\n",
       "      <td>2020-12-07 04:02:40</td>\n",
       "      <td>purchase</td>\n",
       "      <td>4.99</td>\n",
       "    </tr>\n",
       "    <tr>\n",
       "      <th>4</th>\n",
       "      <td>1FD7660FDF94CA1F</td>\n",
       "      <td>2020-12-07 10:15:09</td>\n",
       "      <td>purchase</td>\n",
       "      <td>4.99</td>\n",
       "    </tr>\n",
       "    <tr>\n",
       "      <th>5</th>\n",
       "      <td>831887FE7F2D6CBA</td>\n",
       "      <td>2020-12-07 06:50:29</td>\n",
       "      <td>purchase</td>\n",
       "      <td>4.99</td>\n",
       "    </tr>\n",
       "    <tr>\n",
       "      <th>6</th>\n",
       "      <td>6B2F726BFD5F8220</td>\n",
       "      <td>2020-12-07 11:27:42</td>\n",
       "      <td>purchase</td>\n",
       "      <td>4.99</td>\n",
       "    </tr>\n",
       "    <tr>\n",
       "      <th>7</th>\n",
       "      <td>BEB37715AACF53B0</td>\n",
       "      <td>2020-12-07 04:26:15</td>\n",
       "      <td>purchase</td>\n",
       "      <td>4.99</td>\n",
       "    </tr>\n",
       "    <tr>\n",
       "      <th>8</th>\n",
       "      <td>B5FA27F582227197</td>\n",
       "      <td>2020-12-07 01:46:37</td>\n",
       "      <td>purchase</td>\n",
       "      <td>4.99</td>\n",
       "    </tr>\n",
       "    <tr>\n",
       "      <th>9</th>\n",
       "      <td>A92195E3CFB83DBD</td>\n",
       "      <td>2020-12-07 00:32:07</td>\n",
       "      <td>purchase</td>\n",
       "      <td>4.99</td>\n",
       "    </tr>\n",
       "  </tbody>\n",
       "</table>\n",
       "</div>"
      ],
      "text/plain": [
       "            user_id             event_dt event_name  details\n",
       "0  E1BDDCE0DAFA2679  2020-12-07 20:22:03   purchase    99.99\n",
       "1  7B6452F081F49504  2020-12-07 09:22:53   purchase     9.99\n",
       "2  9CD9F34546DF254C  2020-12-07 12:59:29   purchase     4.99\n",
       "3  96F27A054B191457  2020-12-07 04:02:40   purchase     4.99\n",
       "4  1FD7660FDF94CA1F  2020-12-07 10:15:09   purchase     4.99\n",
       "5  831887FE7F2D6CBA  2020-12-07 06:50:29   purchase     4.99\n",
       "6  6B2F726BFD5F8220  2020-12-07 11:27:42   purchase     4.99\n",
       "7  BEB37715AACF53B0  2020-12-07 04:26:15   purchase     4.99\n",
       "8  B5FA27F582227197  2020-12-07 01:46:37   purchase     4.99\n",
       "9  A92195E3CFB83DBD  2020-12-07 00:32:07   purchase     4.99"
      ]
     },
     "execution_count": 3,
     "metadata": {},
     "output_type": "execute_result"
    }
   ],
   "source": [
    "# Вывод первых десяти строк методом head с аргументом 10\n",
    "final_ab_events.head(10)"
   ]
  },
  {
   "cell_type": "markdown",
   "id": "6c2dc382",
   "metadata": {},
   "source": [
    "В датасете *final_ab_events* видно наличие структурированных данных в четырех столбцах"
   ]
  },
  {
   "cell_type": "code",
   "execution_count": 4,
   "id": "33976b7c",
   "metadata": {},
   "outputs": [
    {
     "name": "stdout",
     "output_type": "stream",
     "text": [
      "<class 'pandas.core.frame.DataFrame'>\n",
      "RangeIndex: 440317 entries, 0 to 440316\n",
      "Data columns (total 4 columns):\n",
      " #   Column      Non-Null Count   Dtype  \n",
      "---  ------      --------------   -----  \n",
      " 0   user_id     440317 non-null  object \n",
      " 1   event_dt    440317 non-null  object \n",
      " 2   event_name  440317 non-null  object \n",
      " 3   details     62740 non-null   float64\n",
      "dtypes: float64(1), object(3)\n",
      "memory usage: 13.4+ MB\n"
     ]
    }
   ],
   "source": [
    "# Вывод общей информации о датасете final_ab_events методом info\n",
    "final_ab_events.info()"
   ]
  },
  {
   "cell_type": "markdown",
   "id": "1ab4a5a8",
   "metadata": {},
   "source": [
    "Структура файла, по информации от заказчика:\\\n",
    "user_id — идентификатор пользователя;\\\n",
    "event_dt — дата и время события;\\\n",
    "event_name — тип события;\\\n",
    "details — дополнительные данные о событии. Например, для покупок, purchase, в этом поле хранится стоимость покупки в долларах.\n",
    "\n",
    "Всего в датасете 440317 строк и четыре столбца с данными.\\\n",
    "Формат данных в столбце event_dt не соответствуют назначению. Требуется конвертация в надлежащий  тип данных.\n",
    "\n",
    "В столбце details присутствуют пропуски, требующие изучения и при необходимости заполнения.\n"
   ]
  },
  {
   "cell_type": "markdown",
   "id": "077fcbb8",
   "metadata": {},
   "source": [
    "#### Ознакомление с ab_project_marketing_events"
   ]
  },
  {
   "cell_type": "markdown",
   "id": "9727e3cc",
   "metadata": {},
   "source": [
    "ab_project_marketing_events — календарь маркетинговых событий на 2020 год."
   ]
  },
  {
   "cell_type": "code",
   "execution_count": 5,
   "id": "71b8bd64",
   "metadata": {
    "scrolled": false
   },
   "outputs": [
    {
     "data": {
      "text/html": [
       "<div>\n",
       "<style scoped>\n",
       "    .dataframe tbody tr th:only-of-type {\n",
       "        vertical-align: middle;\n",
       "    }\n",
       "\n",
       "    .dataframe tbody tr th {\n",
       "        vertical-align: top;\n",
       "    }\n",
       "\n",
       "    .dataframe thead th {\n",
       "        text-align: right;\n",
       "    }\n",
       "</style>\n",
       "<table border=\"1\" class=\"dataframe\">\n",
       "  <thead>\n",
       "    <tr style=\"text-align: right;\">\n",
       "      <th></th>\n",
       "      <th>name</th>\n",
       "      <th>regions</th>\n",
       "      <th>start_dt</th>\n",
       "      <th>finish_dt</th>\n",
       "    </tr>\n",
       "  </thead>\n",
       "  <tbody>\n",
       "    <tr>\n",
       "      <th>0</th>\n",
       "      <td>Christmas&amp;New Year Promo</td>\n",
       "      <td>EU, N.America</td>\n",
       "      <td>2020-12-25</td>\n",
       "      <td>2021-01-03</td>\n",
       "    </tr>\n",
       "    <tr>\n",
       "      <th>1</th>\n",
       "      <td>St. Valentine's Day Giveaway</td>\n",
       "      <td>EU, CIS, APAC, N.America</td>\n",
       "      <td>2020-02-14</td>\n",
       "      <td>2020-02-16</td>\n",
       "    </tr>\n",
       "    <tr>\n",
       "      <th>2</th>\n",
       "      <td>St. Patric's Day Promo</td>\n",
       "      <td>EU, N.America</td>\n",
       "      <td>2020-03-17</td>\n",
       "      <td>2020-03-19</td>\n",
       "    </tr>\n",
       "    <tr>\n",
       "      <th>3</th>\n",
       "      <td>Easter Promo</td>\n",
       "      <td>EU, CIS, APAC, N.America</td>\n",
       "      <td>2020-04-12</td>\n",
       "      <td>2020-04-19</td>\n",
       "    </tr>\n",
       "    <tr>\n",
       "      <th>4</th>\n",
       "      <td>4th of July Promo</td>\n",
       "      <td>N.America</td>\n",
       "      <td>2020-07-04</td>\n",
       "      <td>2020-07-11</td>\n",
       "    </tr>\n",
       "    <tr>\n",
       "      <th>5</th>\n",
       "      <td>Black Friday Ads Campaign</td>\n",
       "      <td>EU, CIS, APAC, N.America</td>\n",
       "      <td>2020-11-26</td>\n",
       "      <td>2020-12-01</td>\n",
       "    </tr>\n",
       "    <tr>\n",
       "      <th>6</th>\n",
       "      <td>Chinese New Year Promo</td>\n",
       "      <td>APAC</td>\n",
       "      <td>2020-01-25</td>\n",
       "      <td>2020-02-07</td>\n",
       "    </tr>\n",
       "    <tr>\n",
       "      <th>7</th>\n",
       "      <td>Labor day (May 1st) Ads Campaign</td>\n",
       "      <td>EU, CIS, APAC</td>\n",
       "      <td>2020-05-01</td>\n",
       "      <td>2020-05-03</td>\n",
       "    </tr>\n",
       "    <tr>\n",
       "      <th>8</th>\n",
       "      <td>International Women's Day Promo</td>\n",
       "      <td>EU, CIS, APAC</td>\n",
       "      <td>2020-03-08</td>\n",
       "      <td>2020-03-10</td>\n",
       "    </tr>\n",
       "    <tr>\n",
       "      <th>9</th>\n",
       "      <td>Victory Day CIS (May 9th) Event</td>\n",
       "      <td>CIS</td>\n",
       "      <td>2020-05-09</td>\n",
       "      <td>2020-05-11</td>\n",
       "    </tr>\n",
       "  </tbody>\n",
       "</table>\n",
       "</div>"
      ],
      "text/plain": [
       "                               name                   regions    start_dt  \\\n",
       "0          Christmas&New Year Promo             EU, N.America  2020-12-25   \n",
       "1      St. Valentine's Day Giveaway  EU, CIS, APAC, N.America  2020-02-14   \n",
       "2            St. Patric's Day Promo             EU, N.America  2020-03-17   \n",
       "3                      Easter Promo  EU, CIS, APAC, N.America  2020-04-12   \n",
       "4                 4th of July Promo                 N.America  2020-07-04   \n",
       "5         Black Friday Ads Campaign  EU, CIS, APAC, N.America  2020-11-26   \n",
       "6            Chinese New Year Promo                      APAC  2020-01-25   \n",
       "7  Labor day (May 1st) Ads Campaign             EU, CIS, APAC  2020-05-01   \n",
       "8   International Women's Day Promo             EU, CIS, APAC  2020-03-08   \n",
       "9   Victory Day CIS (May 9th) Event                       CIS  2020-05-09   \n",
       "\n",
       "    finish_dt  \n",
       "0  2021-01-03  \n",
       "1  2020-02-16  \n",
       "2  2020-03-19  \n",
       "3  2020-04-19  \n",
       "4  2020-07-11  \n",
       "5  2020-12-01  \n",
       "6  2020-02-07  \n",
       "7  2020-05-03  \n",
       "8  2020-03-10  \n",
       "9  2020-05-11  "
      ]
     },
     "execution_count": 5,
     "metadata": {},
     "output_type": "execute_result"
    }
   ],
   "source": [
    "# Вывод первых десяти строк дадасета ab_project_marketing_events методом head и аргументом 10\n",
    "ab_project_marketing_events.head(10)"
   ]
  },
  {
   "cell_type": "markdown",
   "id": "664cb860",
   "metadata": {},
   "source": [
    "В датасете *ab_project_marketing_events* видно наличие структурированных данных в четырех столбцах"
   ]
  },
  {
   "cell_type": "code",
   "execution_count": 6,
   "id": "32975969",
   "metadata": {
    "scrolled": true
   },
   "outputs": [
    {
     "name": "stdout",
     "output_type": "stream",
     "text": [
      "<class 'pandas.core.frame.DataFrame'>\n",
      "RangeIndex: 14 entries, 0 to 13\n",
      "Data columns (total 4 columns):\n",
      " #   Column     Non-Null Count  Dtype \n",
      "---  ------     --------------  ----- \n",
      " 0   name       14 non-null     object\n",
      " 1   regions    14 non-null     object\n",
      " 2   start_dt   14 non-null     object\n",
      " 3   finish_dt  14 non-null     object\n",
      "dtypes: object(4)\n",
      "memory usage: 576.0+ bytes\n"
     ]
    }
   ],
   "source": [
    "# Вывод общей информации о датасете ab_project_marketing_events методом info\n",
    "ab_project_marketing_events.info()"
   ]
  },
  {
   "cell_type": "markdown",
   "id": "7a1a58be",
   "metadata": {},
   "source": [
    "Структура файла по данным от заказчика:\\\n",
    "name — название маркетингового события;\\\n",
    "regions — регионы, в которых будет проводиться рекламная кампания;\\\n",
    "start_dt — дата начала кампании;\\\n",
    "finish_dt — дата завершения кампании.\n",
    "\n",
    "Всего в датасете 14 строк и четыре столбца с данными.\n",
    "Формат данных в столбце start_dt и finish_dt не соответствуют назначению. Требуется конвертация в надлежащий  тип данных.\n",
    "\n",
    "Пропуски в данных не обнаружены."
   ]
  },
  {
   "cell_type": "markdown",
   "id": "48464b30",
   "metadata": {},
   "source": [
    "#### Ознакомление с final_ab_new_users"
   ]
  },
  {
   "cell_type": "markdown",
   "id": "cebca886",
   "metadata": {},
   "source": [
    "final_ab_new_users - пользователи, зарегистрировавшиеся с 7 до 21 декабря 2020 года.\n"
   ]
  },
  {
   "cell_type": "code",
   "execution_count": 7,
   "id": "3c489cbb",
   "metadata": {},
   "outputs": [
    {
     "data": {
      "text/html": [
       "<div>\n",
       "<style scoped>\n",
       "    .dataframe tbody tr th:only-of-type {\n",
       "        vertical-align: middle;\n",
       "    }\n",
       "\n",
       "    .dataframe tbody tr th {\n",
       "        vertical-align: top;\n",
       "    }\n",
       "\n",
       "    .dataframe thead th {\n",
       "        text-align: right;\n",
       "    }\n",
       "</style>\n",
       "<table border=\"1\" class=\"dataframe\">\n",
       "  <thead>\n",
       "    <tr style=\"text-align: right;\">\n",
       "      <th></th>\n",
       "      <th>user_id</th>\n",
       "      <th>first_date</th>\n",
       "      <th>region</th>\n",
       "      <th>device</th>\n",
       "    </tr>\n",
       "  </thead>\n",
       "  <tbody>\n",
       "    <tr>\n",
       "      <th>0</th>\n",
       "      <td>D72A72121175D8BE</td>\n",
       "      <td>2020-12-07</td>\n",
       "      <td>EU</td>\n",
       "      <td>PC</td>\n",
       "    </tr>\n",
       "    <tr>\n",
       "      <th>1</th>\n",
       "      <td>F1C668619DFE6E65</td>\n",
       "      <td>2020-12-07</td>\n",
       "      <td>N.America</td>\n",
       "      <td>Android</td>\n",
       "    </tr>\n",
       "    <tr>\n",
       "      <th>2</th>\n",
       "      <td>2E1BF1D4C37EA01F</td>\n",
       "      <td>2020-12-07</td>\n",
       "      <td>EU</td>\n",
       "      <td>PC</td>\n",
       "    </tr>\n",
       "    <tr>\n",
       "      <th>3</th>\n",
       "      <td>50734A22C0C63768</td>\n",
       "      <td>2020-12-07</td>\n",
       "      <td>EU</td>\n",
       "      <td>iPhone</td>\n",
       "    </tr>\n",
       "    <tr>\n",
       "      <th>4</th>\n",
       "      <td>E1BDDCE0DAFA2679</td>\n",
       "      <td>2020-12-07</td>\n",
       "      <td>N.America</td>\n",
       "      <td>iPhone</td>\n",
       "    </tr>\n",
       "    <tr>\n",
       "      <th>5</th>\n",
       "      <td>137119F5A9E69421</td>\n",
       "      <td>2020-12-07</td>\n",
       "      <td>N.America</td>\n",
       "      <td>iPhone</td>\n",
       "    </tr>\n",
       "    <tr>\n",
       "      <th>6</th>\n",
       "      <td>62F0C741CC42D0CC</td>\n",
       "      <td>2020-12-07</td>\n",
       "      <td>APAC</td>\n",
       "      <td>iPhone</td>\n",
       "    </tr>\n",
       "    <tr>\n",
       "      <th>7</th>\n",
       "      <td>8942E64218C9A1ED</td>\n",
       "      <td>2020-12-07</td>\n",
       "      <td>EU</td>\n",
       "      <td>PC</td>\n",
       "    </tr>\n",
       "    <tr>\n",
       "      <th>8</th>\n",
       "      <td>499AFACF904BBAE3</td>\n",
       "      <td>2020-12-07</td>\n",
       "      <td>N.America</td>\n",
       "      <td>iPhone</td>\n",
       "    </tr>\n",
       "    <tr>\n",
       "      <th>9</th>\n",
       "      <td>FFCEA1179C253104</td>\n",
       "      <td>2020-12-07</td>\n",
       "      <td>EU</td>\n",
       "      <td>Android</td>\n",
       "    </tr>\n",
       "  </tbody>\n",
       "</table>\n",
       "</div>"
      ],
      "text/plain": [
       "            user_id  first_date     region   device\n",
       "0  D72A72121175D8BE  2020-12-07         EU       PC\n",
       "1  F1C668619DFE6E65  2020-12-07  N.America  Android\n",
       "2  2E1BF1D4C37EA01F  2020-12-07         EU       PC\n",
       "3  50734A22C0C63768  2020-12-07         EU   iPhone\n",
       "4  E1BDDCE0DAFA2679  2020-12-07  N.America   iPhone\n",
       "5  137119F5A9E69421  2020-12-07  N.America   iPhone\n",
       "6  62F0C741CC42D0CC  2020-12-07       APAC   iPhone\n",
       "7  8942E64218C9A1ED  2020-12-07         EU       PC\n",
       "8  499AFACF904BBAE3  2020-12-07  N.America   iPhone\n",
       "9  FFCEA1179C253104  2020-12-07         EU  Android"
      ]
     },
     "execution_count": 7,
     "metadata": {},
     "output_type": "execute_result"
    }
   ],
   "source": [
    "# Вывод первых десяти строк дадасета final_ab_new_users методом head и аргументом 10\n",
    "final_ab_new_users.head(10)"
   ]
  },
  {
   "cell_type": "markdown",
   "id": "8d930e4b",
   "metadata": {},
   "source": [
    "В датасете *final_ab_new_users* видно наличие структурированных данных в четырех столбцах"
   ]
  },
  {
   "cell_type": "code",
   "execution_count": 8,
   "id": "15107dd3",
   "metadata": {},
   "outputs": [
    {
     "name": "stdout",
     "output_type": "stream",
     "text": [
      "<class 'pandas.core.frame.DataFrame'>\n",
      "RangeIndex: 61733 entries, 0 to 61732\n",
      "Data columns (total 4 columns):\n",
      " #   Column      Non-Null Count  Dtype \n",
      "---  ------      --------------  ----- \n",
      " 0   user_id     61733 non-null  object\n",
      " 1   first_date  61733 non-null  object\n",
      " 2   region      61733 non-null  object\n",
      " 3   device      61733 non-null  object\n",
      "dtypes: object(4)\n",
      "memory usage: 1.9+ MB\n"
     ]
    }
   ],
   "source": [
    "# Вывод общей информации о датасете final_ab_new_users методом info\n",
    "final_ab_new_users.info()"
   ]
  },
  {
   "cell_type": "markdown",
   "id": "215671dc",
   "metadata": {},
   "source": [
    "Структура файла по данным заказчика:\\\n",
    "user_id — идентификатор пользователя;\\\n",
    "first_date — дата регистрации;\\\n",
    "region — регион пользователя;\\\n",
    "device — устройство, с которого происходила регистрация.\n",
    "\n",
    "Всего в датасете 61733 строк и четыре столбца с данными.\\\n",
    "Формат данных в столбце first_date не соответствуют назначению. Требуется конвертация в надлежащий тип данных.\n",
    "\n",
    "Пропусков в данных не обнаружены."
   ]
  },
  {
   "cell_type": "markdown",
   "id": "41a5c851",
   "metadata": {},
   "source": [
    "#### Ознакомление с final_ab_participants"
   ]
  },
  {
   "cell_type": "markdown",
   "id": "c3dbe836",
   "metadata": {},
   "source": [
    "final_ab_participants — таблица участников тестов."
   ]
  },
  {
   "cell_type": "code",
   "execution_count": 9,
   "id": "09cafb69",
   "metadata": {
    "scrolled": false
   },
   "outputs": [
    {
     "data": {
      "text/html": [
       "<div>\n",
       "<style scoped>\n",
       "    .dataframe tbody tr th:only-of-type {\n",
       "        vertical-align: middle;\n",
       "    }\n",
       "\n",
       "    .dataframe tbody tr th {\n",
       "        vertical-align: top;\n",
       "    }\n",
       "\n",
       "    .dataframe thead th {\n",
       "        text-align: right;\n",
       "    }\n",
       "</style>\n",
       "<table border=\"1\" class=\"dataframe\">\n",
       "  <thead>\n",
       "    <tr style=\"text-align: right;\">\n",
       "      <th></th>\n",
       "      <th>user_id</th>\n",
       "      <th>group</th>\n",
       "      <th>ab_test</th>\n",
       "    </tr>\n",
       "  </thead>\n",
       "  <tbody>\n",
       "    <tr>\n",
       "      <th>0</th>\n",
       "      <td>D1ABA3E2887B6A73</td>\n",
       "      <td>A</td>\n",
       "      <td>recommender_system_test</td>\n",
       "    </tr>\n",
       "    <tr>\n",
       "      <th>1</th>\n",
       "      <td>A7A3664BD6242119</td>\n",
       "      <td>A</td>\n",
       "      <td>recommender_system_test</td>\n",
       "    </tr>\n",
       "    <tr>\n",
       "      <th>2</th>\n",
       "      <td>DABC14FDDFADD29E</td>\n",
       "      <td>A</td>\n",
       "      <td>recommender_system_test</td>\n",
       "    </tr>\n",
       "    <tr>\n",
       "      <th>3</th>\n",
       "      <td>04988C5DF189632E</td>\n",
       "      <td>A</td>\n",
       "      <td>recommender_system_test</td>\n",
       "    </tr>\n",
       "    <tr>\n",
       "      <th>4</th>\n",
       "      <td>482F14783456D21B</td>\n",
       "      <td>B</td>\n",
       "      <td>recommender_system_test</td>\n",
       "    </tr>\n",
       "    <tr>\n",
       "      <th>5</th>\n",
       "      <td>4FF2998A348C484F</td>\n",
       "      <td>A</td>\n",
       "      <td>recommender_system_test</td>\n",
       "    </tr>\n",
       "    <tr>\n",
       "      <th>6</th>\n",
       "      <td>7473E0943673C09E</td>\n",
       "      <td>A</td>\n",
       "      <td>recommender_system_test</td>\n",
       "    </tr>\n",
       "    <tr>\n",
       "      <th>7</th>\n",
       "      <td>C46FE336D240A054</td>\n",
       "      <td>A</td>\n",
       "      <td>recommender_system_test</td>\n",
       "    </tr>\n",
       "    <tr>\n",
       "      <th>8</th>\n",
       "      <td>92CB588012C10D3D</td>\n",
       "      <td>A</td>\n",
       "      <td>recommender_system_test</td>\n",
       "    </tr>\n",
       "    <tr>\n",
       "      <th>9</th>\n",
       "      <td>057AB296296C7FC0</td>\n",
       "      <td>B</td>\n",
       "      <td>recommender_system_test</td>\n",
       "    </tr>\n",
       "  </tbody>\n",
       "</table>\n",
       "</div>"
      ],
      "text/plain": [
       "            user_id group                  ab_test\n",
       "0  D1ABA3E2887B6A73     A  recommender_system_test\n",
       "1  A7A3664BD6242119     A  recommender_system_test\n",
       "2  DABC14FDDFADD29E     A  recommender_system_test\n",
       "3  04988C5DF189632E     A  recommender_system_test\n",
       "4  482F14783456D21B     B  recommender_system_test\n",
       "5  4FF2998A348C484F     A  recommender_system_test\n",
       "6  7473E0943673C09E     A  recommender_system_test\n",
       "7  C46FE336D240A054     A  recommender_system_test\n",
       "8  92CB588012C10D3D     A  recommender_system_test\n",
       "9  057AB296296C7FC0     B  recommender_system_test"
      ]
     },
     "execution_count": 9,
     "metadata": {},
     "output_type": "execute_result"
    }
   ],
   "source": [
    "# Вывод первых десяти строк дадасета final_ab_participants методом head и аргументом 10\n",
    "final_ab_participants.head(10)"
   ]
  },
  {
   "cell_type": "markdown",
   "id": "e83d3535",
   "metadata": {},
   "source": [
    "В датасете *final_ab_new_users* видно наличие структурированных данных в трех столбцах"
   ]
  },
  {
   "cell_type": "code",
   "execution_count": 10,
   "id": "ea64389f",
   "metadata": {},
   "outputs": [
    {
     "name": "stdout",
     "output_type": "stream",
     "text": [
      "<class 'pandas.core.frame.DataFrame'>\n",
      "RangeIndex: 18268 entries, 0 to 18267\n",
      "Data columns (total 3 columns):\n",
      " #   Column   Non-Null Count  Dtype \n",
      "---  ------   --------------  ----- \n",
      " 0   user_id  18268 non-null  object\n",
      " 1   group    18268 non-null  object\n",
      " 2   ab_test  18268 non-null  object\n",
      "dtypes: object(3)\n",
      "memory usage: 428.3+ KB\n"
     ]
    }
   ],
   "source": [
    "# Вывод общей информации о датасете final_ab_participants методом info\n",
    "final_ab_participants.info()"
   ]
  },
  {
   "cell_type": "markdown",
   "id": "849b888a",
   "metadata": {},
   "source": [
    "Структура файла по данным заказчика:\\\n",
    "user_id — идентификатор пользователя;\\\n",
    "ab_test — название теста;\\\n",
    "group — группа пользователя.\n",
    "\n",
    "Всего в датасете 18268 строк и три столбца с данными.\\\n",
    "Формат всех данных соответствуют назначению.\n",
    "\n",
    "Пропусков в данных не обнаружено."
   ]
  },
  {
   "cell_type": "markdown",
   "id": "a39eed55",
   "metadata": {},
   "source": [
    "### Выводы по разделу"
   ]
  },
  {
   "cell_type": "markdown",
   "id": "cba48025",
   "metadata": {},
   "source": [
    "Всего было получено 4 файла в формате csv:\n",
    "- ab_project_marketing_events.csv — календарь маркетинговых событий на 2020 год;\n",
    "- final_ab_new_users.csv — пользователи, зарегистрировавшиеся с 7 до 21 декабря 2020 года;\n",
    "- final_ab_events.csv — действия новых пользователей в период с 7 декабря 2020 по 4 января 2021 года;\n",
    "- final_ab_participants.csv — таблица участников тестов.\n",
    "\n",
    "Данные из файлов были имитированы в переменные с соответствующими наименованиями.\\\n",
    "Для начала был произведён обзор полученных данных, в результате чего было выявлено несоответствие значений в данных типам их назначения. Данная проблема была обнаружена практически во всех таблицах, кроме final_ab_participants.\\\n",
    "При первичном обзоре пропуски были обнаружены только в данных final_ab_events.\\\n",
    "В седлающем разделе будет проведена работа с исправлением обнаруженных ошибок.\n",
    "\n",
    "\n"
   ]
  },
  {
   "cell_type": "markdown",
   "id": "15fb8ef9",
   "metadata": {},
   "source": [
    "## Предобработка данных"
   ]
  },
  {
   "cell_type": "markdown",
   "id": "83c39078",
   "metadata": {},
   "source": [
    "### Приведение данных к соответствующим типам"
   ]
  },
  {
   "cell_type": "markdown",
   "id": "24c1ffd5",
   "metadata": {},
   "source": [
    "Приведем все обнаруженные несоответствия значений дат и времени к корректному типу данных"
   ]
  },
  {
   "cell_type": "code",
   "execution_count": 11,
   "id": "f63e20b7",
   "metadata": {},
   "outputs": [],
   "source": [
    "# Для изменения формата даты и время используется функцию to_datetime из библиотеки pandas, \n",
    "# в которую передадаются данные из столбцов с датой по каждому датасету отдельно, но с небольшими разницами в аргументах.\n",
    "\n",
    "# Изменение формата даты и времени столбца 'event_dt' датасета final_ab_events. Аргументу format передаются значения \n",
    "# Год-месяц-день час-минута-секунда ('%Y-%m-%d %H:%M:%S'), а также округляем время до 00:00:00 ч. методом normalize\n",
    "# библиотеки datetime:\n",
    "final_ab_events['event_dt'] = pd.to_datetime(final_ab_events['event_dt'], format='%Y-%m-%d %H:%M:%S').dt.normalize()\n",
    "\n",
    "# Изменение формата столбца 'start_dt' датасета ab_project_marketing_events. Агрументу format передается '%Y-%m-%d'\n",
    "ab_project_marketing_events['start_dt'] = pd.to_datetime(ab_project_marketing_events['start_dt'], format='%Y-%m-%d')\n",
    "\n",
    "# Изменение формата столбца 'finish_dt' датасета ab_project_marketing_events. Агрументу format передается '%Y-%m-%d'\n",
    "ab_project_marketing_events['finish_dt'] = pd.to_datetime(ab_project_marketing_events['finish_dt'], format='%Y-%m-%d')\n",
    "\n",
    "# Изменение формата столбца 'first_date' датасета final_ab_new_users. Агрументу format передается '%Y-%m-%d'\n",
    "final_ab_new_users['first_date'] = pd.to_datetime(final_ab_new_users['first_date'], format='%Y-%m-%d')"
   ]
  },
  {
   "cell_type": "markdown",
   "id": "8d8f3ddc",
   "metadata": {},
   "source": [
    "Проверка внесенных изменений методом *info* "
   ]
  },
  {
   "cell_type": "code",
   "execution_count": 12,
   "id": "7e6d9c19",
   "metadata": {},
   "outputs": [
    {
     "name": "stdout",
     "output_type": "stream",
     "text": [
      "<class 'pandas.core.frame.DataFrame'>\n",
      "RangeIndex: 440317 entries, 0 to 440316\n",
      "Data columns (total 4 columns):\n",
      " #   Column      Non-Null Count   Dtype         \n",
      "---  ------      --------------   -----         \n",
      " 0   user_id     440317 non-null  object        \n",
      " 1   event_dt    440317 non-null  datetime64[ns]\n",
      " 2   event_name  440317 non-null  object        \n",
      " 3   details     62740 non-null   float64       \n",
      "dtypes: datetime64[ns](1), float64(1), object(2)\n",
      "memory usage: 13.4+ MB\n",
      "\n",
      "<class 'pandas.core.frame.DataFrame'>\n",
      "RangeIndex: 14 entries, 0 to 13\n",
      "Data columns (total 4 columns):\n",
      " #   Column     Non-Null Count  Dtype         \n",
      "---  ------     --------------  -----         \n",
      " 0   name       14 non-null     object        \n",
      " 1   regions    14 non-null     object        \n",
      " 2   start_dt   14 non-null     datetime64[ns]\n",
      " 3   finish_dt  14 non-null     datetime64[ns]\n",
      "dtypes: datetime64[ns](2), object(2)\n",
      "memory usage: 576.0+ bytes\n",
      "\n",
      "<class 'pandas.core.frame.DataFrame'>\n",
      "RangeIndex: 61733 entries, 0 to 61732\n",
      "Data columns (total 4 columns):\n",
      " #   Column      Non-Null Count  Dtype         \n",
      "---  ------      --------------  -----         \n",
      " 0   user_id     61733 non-null  object        \n",
      " 1   first_date  61733 non-null  datetime64[ns]\n",
      " 2   region      61733 non-null  object        \n",
      " 3   device      61733 non-null  object        \n",
      "dtypes: datetime64[ns](1), object(3)\n",
      "memory usage: 1.9+ MB\n"
     ]
    }
   ],
   "source": [
    "final_ab_events.info()\n",
    "print()\n",
    "ab_project_marketing_events.info()\n",
    "print()\n",
    "final_ab_new_users.info()"
   ]
  },
  {
   "cell_type": "markdown",
   "id": "2c16dbec",
   "metadata": {},
   "source": [
    "### Исследование пропусков и дубликатов"
   ]
  },
  {
   "cell_type": "markdown",
   "id": "84e51892",
   "metadata": {},
   "source": [
    "Как было выявлено на этапе ознакомления с данными, в единственной таблице final_ab_new_users обнаружены пропуски в данных details.\\\n",
    "Для начала необходимо ознакомится с данными в этих столбцах."
   ]
  },
  {
   "cell_type": "code",
   "execution_count": 13,
   "id": "57df3b2b",
   "metadata": {},
   "outputs": [
    {
     "data": {
      "text/plain": [
       "'Количество пропусков в столбце details: 377577'"
      ]
     },
     "execution_count": 13,
     "metadata": {},
     "output_type": "execute_result"
    }
   ],
   "source": [
    "# Подсчет количества пропусков значений столбца 'details' датасета final_ab_events производится сочетанием методов\n",
    "# isna().sum(), котрые в качестве конструкции передаются в f-строку:\n",
    "f'Количество пропусков в столбце details: {final_ab_events[\"details\"].isna().sum()}'"
   ]
  },
  {
   "cell_type": "markdown",
   "id": "33932ac1",
   "metadata": {},
   "source": [
    "Изучим данные пропуски.\\\n",
    "В первую очередь, посчитаем количество уникальных значений в строках всех столбцов датасета:"
   ]
  },
  {
   "cell_type": "code",
   "execution_count": 14,
   "id": "1eda4adb",
   "metadata": {
    "scrolled": true
   },
   "outputs": [
    {
     "data": {
      "text/plain": [
       "user_id       58703\n",
       "event_dt         24\n",
       "event_name        4\n",
       "details           4\n",
       "dtype: int64"
      ]
     },
     "execution_count": 14,
     "metadata": {},
     "output_type": "execute_result"
    }
   ],
   "source": [
    "# Для подсчета использован метод nunique, ко всему датасету final_ab_events\n",
    "final_ab_events.nunique()"
   ]
  },
  {
   "cell_type": "markdown",
   "id": "b1219021",
   "metadata": {},
   "source": [
    "Из полученных сведений видно, что в датасете 58703 уникальных пользователя, у которых 24 уникальные даты, 4 уникальных вида событий и 4 варианта детализированных данных."
   ]
  },
  {
   "cell_type": "markdown",
   "id": "4b63e53e",
   "metadata": {},
   "source": [
    "Проверим уникальные наименования типов событий (event_name) в датасете:"
   ]
  },
  {
   "cell_type": "code",
   "execution_count": 15,
   "id": "c9945eb4",
   "metadata": {},
   "outputs": [
    {
     "data": {
      "text/plain": [
       "array(['purchase', 'product_cart', 'product_page', 'login'], dtype=object)"
      ]
     },
     "execution_count": 15,
     "metadata": {},
     "output_type": "execute_result"
    }
   ],
   "source": [
    "# Используется тот же метод unique, но у же конкретно к столбцу 'event_name'\n",
    "final_ab_events['event_name'].unique()"
   ]
  },
  {
   "cell_type": "markdown",
   "id": "cf5d651c",
   "metadata": {},
   "source": [
    "Как следует из названий, это наименования действий в событийной воронке.\\\n",
    "Сделаем два среза по пропускам в details и посмотрим, какие события воронки соответствуют им."
   ]
  },
  {
   "cell_type": "code",
   "execution_count": 16,
   "id": "f3848be8",
   "metadata": {},
   "outputs": [
    {
     "data": {
      "text/plain": [
       "array(['product_cart', 'product_page', 'login'], dtype=object)"
      ]
     },
     "execution_count": 16,
     "metadata": {},
     "output_type": "execute_result"
    }
   ],
   "source": [
    "# Используется логический срез методом query, в которым задаётся логическое значение 'details.isna()', \n",
    "# формирующее датасет с пустым значением столбца 'details'\n",
    "# В полученном срезе к столбцу 'event_name' применяется метод unique, который выведет все уникальные значения.\n",
    "final_ab_events.query('details.isna()')['event_name'].unique()"
   ]
  },
  {
   "cell_type": "code",
   "execution_count": 17,
   "id": "ae1581cf",
   "metadata": {},
   "outputs": [
    {
     "data": {
      "text/plain": [
       "array(['purchase'], dtype=object)"
      ]
     },
     "execution_count": 17,
     "metadata": {},
     "output_type": "execute_result"
    }
   ],
   "source": [
    "# Используется также логический срез методом query, только в нем задаётся логическое значение '~details.isna()', \n",
    "# что сформирует обратный срез, в котором 'details' будут все значения, кроме пустых\n",
    "# В полученном срезе к столбцу 'event_name' также применяется метод unique, который выведет все уникальные значения.\n",
    "final_ab_events.query('~details.isna()')['event_name'].unique()"
   ]
  },
  {
   "cell_type": "markdown",
   "id": "ed368b84",
   "metadata": {},
   "source": [
    "Как видим, что пропуски в details попадают на события, которые не связаны с покупками. По этой причине, когда покупка еще не совершается, никакой записи в details не делается. Это может означать только одно, учитывая формат данных столбца details (float64), можно с уверенностью утверждать, то это записи о сумме приобретения товаров.\\\n",
    "Исходя из полученных сведений, можно сделать вывод о том, что пропуски заполнять не следует."
   ]
  },
  {
   "cell_type": "markdown",
   "id": "ddc6d029",
   "metadata": {},
   "source": [
    "#### Обзор датасетов на предмет абсолютных пропусков:"
   ]
  },
  {
   "cell_type": "markdown",
   "id": "ffd4154c",
   "metadata": {},
   "source": [
    "Перед обзором абсолютных пропусков в датасете, приведем значения в *'regions'* и *'name'* датасета *ab_project_marketing_events* к нижнему регистру. Только в нем было обнаружено несоответствие правилам хорошего тона регистрация данных в указанных столбцах."
   ]
  },
  {
   "cell_type": "code",
   "execution_count": 18,
   "id": "e33dbefd",
   "metadata": {
    "scrolled": true
   },
   "outputs": [
    {
     "data": {
      "text/html": [
       "<div>\n",
       "<style scoped>\n",
       "    .dataframe tbody tr th:only-of-type {\n",
       "        vertical-align: middle;\n",
       "    }\n",
       "\n",
       "    .dataframe tbody tr th {\n",
       "        vertical-align: top;\n",
       "    }\n",
       "\n",
       "    .dataframe thead th {\n",
       "        text-align: right;\n",
       "    }\n",
       "</style>\n",
       "<table border=\"1\" class=\"dataframe\">\n",
       "  <thead>\n",
       "    <tr style=\"text-align: right;\">\n",
       "      <th></th>\n",
       "      <th>name</th>\n",
       "      <th>regions</th>\n",
       "      <th>start_dt</th>\n",
       "      <th>finish_dt</th>\n",
       "    </tr>\n",
       "  </thead>\n",
       "  <tbody>\n",
       "    <tr>\n",
       "      <th>0</th>\n",
       "      <td>christmas&amp;new year promo</td>\n",
       "      <td>eu, n.america</td>\n",
       "      <td>2020-12-25</td>\n",
       "      <td>2021-01-03</td>\n",
       "    </tr>\n",
       "    <tr>\n",
       "      <th>1</th>\n",
       "      <td>st. valentine's day giveaway</td>\n",
       "      <td>eu, cis, apac, n.america</td>\n",
       "      <td>2020-02-14</td>\n",
       "      <td>2020-02-16</td>\n",
       "    </tr>\n",
       "    <tr>\n",
       "      <th>2</th>\n",
       "      <td>st. patric's day promo</td>\n",
       "      <td>eu, n.america</td>\n",
       "      <td>2020-03-17</td>\n",
       "      <td>2020-03-19</td>\n",
       "    </tr>\n",
       "    <tr>\n",
       "      <th>3</th>\n",
       "      <td>easter promo</td>\n",
       "      <td>eu, cis, apac, n.america</td>\n",
       "      <td>2020-04-12</td>\n",
       "      <td>2020-04-19</td>\n",
       "    </tr>\n",
       "    <tr>\n",
       "      <th>4</th>\n",
       "      <td>4th of july promo</td>\n",
       "      <td>n.america</td>\n",
       "      <td>2020-07-04</td>\n",
       "      <td>2020-07-11</td>\n",
       "    </tr>\n",
       "    <tr>\n",
       "      <th>5</th>\n",
       "      <td>black friday ads campaign</td>\n",
       "      <td>eu, cis, apac, n.america</td>\n",
       "      <td>2020-11-26</td>\n",
       "      <td>2020-12-01</td>\n",
       "    </tr>\n",
       "    <tr>\n",
       "      <th>6</th>\n",
       "      <td>chinese new year promo</td>\n",
       "      <td>apac</td>\n",
       "      <td>2020-01-25</td>\n",
       "      <td>2020-02-07</td>\n",
       "    </tr>\n",
       "    <tr>\n",
       "      <th>7</th>\n",
       "      <td>labor day (may 1st) ads campaign</td>\n",
       "      <td>eu, cis, apac</td>\n",
       "      <td>2020-05-01</td>\n",
       "      <td>2020-05-03</td>\n",
       "    </tr>\n",
       "    <tr>\n",
       "      <th>8</th>\n",
       "      <td>international women's day promo</td>\n",
       "      <td>eu, cis, apac</td>\n",
       "      <td>2020-03-08</td>\n",
       "      <td>2020-03-10</td>\n",
       "    </tr>\n",
       "    <tr>\n",
       "      <th>9</th>\n",
       "      <td>victory day cis (may 9th) event</td>\n",
       "      <td>cis</td>\n",
       "      <td>2020-05-09</td>\n",
       "      <td>2020-05-11</td>\n",
       "    </tr>\n",
       "  </tbody>\n",
       "</table>\n",
       "</div>"
      ],
      "text/plain": [
       "                               name                   regions   start_dt  \\\n",
       "0          christmas&new year promo             eu, n.america 2020-12-25   \n",
       "1      st. valentine's day giveaway  eu, cis, apac, n.america 2020-02-14   \n",
       "2            st. patric's day promo             eu, n.america 2020-03-17   \n",
       "3                      easter promo  eu, cis, apac, n.america 2020-04-12   \n",
       "4                 4th of july promo                 n.america 2020-07-04   \n",
       "5         black friday ads campaign  eu, cis, apac, n.america 2020-11-26   \n",
       "6            chinese new year promo                      apac 2020-01-25   \n",
       "7  labor day (may 1st) ads campaign             eu, cis, apac 2020-05-01   \n",
       "8   international women's day promo             eu, cis, apac 2020-03-08   \n",
       "9   victory day cis (may 9th) event                       cis 2020-05-09   \n",
       "\n",
       "   finish_dt  \n",
       "0 2021-01-03  \n",
       "1 2020-02-16  \n",
       "2 2020-03-19  \n",
       "3 2020-04-19  \n",
       "4 2020-07-11  \n",
       "5 2020-12-01  \n",
       "6 2020-02-07  \n",
       "7 2020-05-03  \n",
       "8 2020-03-10  \n",
       "9 2020-05-11  "
      ]
     },
     "execution_count": 18,
     "metadata": {},
     "output_type": "execute_result"
    }
   ],
   "source": [
    "# В данном случае, к столбцу 'regions' датасета ab_project_marketing_events применяется метод str.lower, который переведет \n",
    "# все буквы в данных построчно к нижнему регистру\n",
    "ab_project_marketing_events['regions'] = ab_project_marketing_events['regions'].str.lower()\n",
    "\n",
    "# Также переводится к нижнему регистру данные из столбца 'name'\n",
    "ab_project_marketing_events['name'] = ab_project_marketing_events['name'].str.lower()\n",
    "ab_project_marketing_events.head(10)"
   ]
  },
  {
   "cell_type": "markdown",
   "id": "a1b2136f",
   "metadata": {},
   "source": [
    "Как видно, функция str.lower исправила регистр значений в столбцах *'name'* и *'regions'*, что позволит в дальнейшем  выявить возможные неявные дубликаты строк."
   ]
  },
  {
   "cell_type": "markdown",
   "id": "e8e755ab",
   "metadata": {},
   "source": [
    "Проверим все датасеты на предмет абсолютных пропусков."
   ]
  },
  {
   "cell_type": "code",
   "execution_count": 19,
   "id": "953cc923",
   "metadata": {
    "scrolled": true
   },
   "outputs": [
    {
     "name": "stdout",
     "output_type": "stream",
     "text": [
      "Количество абсолютных дубликатов в ab_project_marketing_events: 0\n",
      "Количество абсолютных дубликатов в final_ab_new_users: 0\n",
      "Количество абсолютных дубликатов в final_ab_events: 2\n",
      "Количество абсолютных дубликатов в final_ab_participants: 0\n"
     ]
    }
   ],
   "source": [
    "# В данном случае f-строки используются для вывода результатов применения комбинированных методов duplicated и sum.\n",
    "# Метод duplicated определит дубликаты строк, а sum произведет их подсчет.\n",
    "print( f'Количество абсолютных дубликатов в ab_project_marketing_events: {ab_project_marketing_events.duplicated().sum()}')\n",
    "print( f'Количество абсолютных дубликатов в final_ab_new_users: {final_ab_new_users.duplicated().sum()}')\n",
    "print( f'Количество абсолютных дубликатов в final_ab_events: {final_ab_events.duplicated().sum()}')\n",
    "print( f'Количество абсолютных дубликатов в final_ab_participants: {final_ab_participants.duplicated().sum()}')"
   ]
  },
  {
   "cell_type": "markdown",
   "id": "42d7ef82",
   "metadata": {},
   "source": [
    "Произведем удаление дублирующих строк в датасете *final_ab_events*"
   ]
  },
  {
   "cell_type": "code",
   "execution_count": 20,
   "id": "6a65d96a",
   "metadata": {
    "scrolled": true
   },
   "outputs": [
    {
     "name": "stdout",
     "output_type": "stream",
     "text": [
      "Количество дубликатов после метода drop_duplicates в final_ab_events: 0\n"
     ]
    }
   ],
   "source": [
    "# Для удалеия дубликатов строк применяется метод drop_duplicates к датасету в целом, при этом,\n",
    "# метод оставляет первые строки из дублей, а повторные удаляет. Тем самым, обеспечивая сохранность \n",
    "# только уникальных строк:\n",
    "final_ab_events = final_ab_events.drop_duplicates()\n",
    "print( f'Количество дубликатов после метода drop_duplicates в final_ab_events: {final_ab_events.duplicated().sum()}')"
   ]
  },
  {
   "cell_type": "markdown",
   "id": "35f5c6b2",
   "metadata": {},
   "source": [
    "По результатам обзора датасетов, было выявлено только два дубля строк в датасете final_ab_events. После применения метода очистки дублей *drop_duplicates*, данный недочет был устранен."
   ]
  },
  {
   "cell_type": "markdown",
   "id": "e6cc4b5b",
   "metadata": {},
   "source": [
    "### Выводы по разделу."
   ]
  },
  {
   "cell_type": "markdown",
   "id": "10ac209c",
   "metadata": {},
   "source": [
    "В результате обработки полученных данных, были приведены в соответствие типы значений в таблицах *final_ab_events*, *ab_project_marketing_events* и *final_ab_new_users*. Также приведены значения в *'regions'* и *'name'* датасета *ab_project_marketing_events* к нижнему регистру, в соответствии с правилами хорошего тона. И в заключении проведена проверка всех датасетов на абсолютные дубликаты и очистка от дублей в *final_ab_events*.\\\n",
    "В результате предобработки, не было утрачено ни одной строки из всех датасетов.\n"
   ]
  },
  {
   "cell_type": "markdown",
   "id": "4b36e1e3",
   "metadata": {},
   "source": [
    "## Оценка корректности проведения теста"
   ]
  },
  {
   "cell_type": "markdown",
   "id": "3a151c20",
   "metadata": {},
   "source": [
    "В данном разделе проведем изучение соответствия данных требованиям технического задания. Для этого, проверим корректность всех пунктов на его соответствие."
   ]
  },
  {
   "cell_type": "markdown",
   "id": "b46fc864",
   "metadata": {},
   "source": [
    "### Проверка пересечения пользователей между конкурирующими тестами"
   ]
  },
  {
   "cell_type": "markdown",
   "id": "9b86f67e",
   "metadata": {},
   "source": [
    "Для начала сделаем обзор тестов в датасете *final_ab_participants*"
   ]
  },
  {
   "cell_type": "code",
   "execution_count": 21,
   "id": "68739ec3",
   "metadata": {
    "scrolled": false
   },
   "outputs": [
    {
     "data": {
      "text/plain": [
       "array(['recommender_system_test', 'interface_eu_test'], dtype=object)"
      ]
     },
     "execution_count": 21,
     "metadata": {},
     "output_type": "execute_result"
    }
   ],
   "source": [
    "# Для выполнеия запроса, используется метод unique к столбцу ab_test датасета final_ab_participants\n",
    "final_ab_participants['ab_test'].unique()"
   ]
  },
  {
   "cell_type": "markdown",
   "id": "bb6182b2",
   "metadata": {},
   "source": [
    "Всего два теста. Их конкуренция и влияние друг на друга не установлено. По данным заказчика, мы должны исследовать результаты *recommender_system_test*. Поэтому, удалим конкурирующий тест из датасета."
   ]
  },
  {
   "cell_type": "code",
   "execution_count": 22,
   "id": "31c62695",
   "metadata": {},
   "outputs": [
    {
     "data": {
      "text/plain": [
       "array(['recommender_system_test'], dtype=object)"
      ]
     },
     "execution_count": 22,
     "metadata": {},
     "output_type": "execute_result"
    }
   ],
   "source": [
    "# Для выполения данной задачи использован метод логического среза query, \n",
    "# где задатеся логическое соотвествие ab_test == \"recommender_system_test\n",
    "final_ab_participants=final_ab_participants.query('ab_test == \"recommender_system_test\"')\n",
    "\n",
    "# Для проверки выполнения задачи производится вызов метода unique к столбцу ab_test\n",
    "final_ab_participants['ab_test'].unique()"
   ]
  },
  {
   "cell_type": "markdown",
   "id": "79eb99e7",
   "metadata": {},
   "source": [
    "Датасет очищен от конкурирующего теста. В нем остались только исследуемые данные, относящиеся к *recommender_system_test*"
   ]
  },
  {
   "cell_type": "markdown",
   "id": "b3c0e1fd",
   "metadata": {},
   "source": [
    "### Проверка пересечения уникальных пользователей внутри изучаемого теста."
   ]
  },
  {
   "cell_type": "markdown",
   "id": "888edca7",
   "metadata": {},
   "source": [
    "Для проверки пересечений пользователей между тестами, сгруппируем данные в датасете *final_ab_participants* по id пользователя и посчитаем сколько раз пользователь учувствует в пересекающихся тестируемых группах \"А\" и \"В\""
   ]
  },
  {
   "cell_type": "code",
   "execution_count": 23,
   "id": "7362c364",
   "metadata": {
    "scrolled": true
   },
   "outputs": [
    {
     "data": {
      "text/html": [
       "<div>\n",
       "<style scoped>\n",
       "    .dataframe tbody tr th:only-of-type {\n",
       "        vertical-align: middle;\n",
       "    }\n",
       "\n",
       "    .dataframe tbody tr th {\n",
       "        vertical-align: top;\n",
       "    }\n",
       "\n",
       "    .dataframe thead th {\n",
       "        text-align: right;\n",
       "    }\n",
       "</style>\n",
       "<table border=\"1\" class=\"dataframe\">\n",
       "  <thead>\n",
       "    <tr style=\"text-align: right;\">\n",
       "      <th>group</th>\n",
       "      <th>user_id</th>\n",
       "      <th>A</th>\n",
       "      <th>B</th>\n",
       "    </tr>\n",
       "  </thead>\n",
       "  <tbody>\n",
       "  </tbody>\n",
       "</table>\n",
       "</div>"
      ],
      "text/plain": [
       "Empty DataFrame\n",
       "Columns: [user_id, A, B]\n",
       "Index: []"
      ]
     },
     "execution_count": 23,
     "metadata": {},
     "output_type": "execute_result"
    }
   ],
   "source": [
    "# Для подсчета используются сводные данные методом pivot_table, где за индекс берется 'user_id', колонками\n",
    "# определяются группы тестирования ('group'), а подсчет значений берется из 'ab_test' методом 'count' в \n",
    "# агрегирующей функции aggfunc. Все данные записываются в переменную duble_group_test\n",
    "duble_group_test=final_ab_participants.pivot_table(index='user_id', columns='group', values='ab_test', aggfunc='count')\n",
    "\n",
    "# Далее перезаписывается переменная duble_group_test логическим срезом методом query, где выбирается логическая цепочка\n",
    "# при которой выполняется условие наличия пользователя в обеих тестируемых группах 'A > 0 and B > 0'. В заключении\n",
    "# обновляется индексация датафрейма duble_group_test, методом reset_index\n",
    "duble_group_test=duble_group_test.query('A > 0 and B > 0').reset_index()\n",
    "\n",
    "# Вывод получившихся результатов\n",
    "duble_group_test"
   ]
  },
  {
   "cell_type": "markdown",
   "id": "c0d81171",
   "metadata": {},
   "source": [
    "Как видим, пересечений участия одного и того же пользователя в тестируемой и контрольной группах, не выявляется, что позитивно влияет на дальнейшие результаты исследования."
   ]
  },
  {
   "cell_type": "markdown",
   "id": "9f7a1bc3",
   "metadata": {},
   "source": [
    "### Проверка данных на соответствии ТЗ датам запуска, окончания набора новых пользователей и окончание теста"
   ]
  },
  {
   "cell_type": "markdown",
   "id": "01c8949b",
   "metadata": {},
   "source": [
    "Перед началом выполнения проверки, зададим переменные с указанными датами, которые в дальнейшем будем использовать в работе."
   ]
  },
  {
   "cell_type": "code",
   "execution_count": 24,
   "id": "cb354e77",
   "metadata": {},
   "outputs": [
    {
     "name": "stdout",
     "output_type": "stream",
     "text": [
      " Период тестирования c 2020-12-07 по  2021-01-04\n",
      " Дата остановки набора новых пользователей: 2020-12-21\n"
     ]
    }
   ],
   "source": [
    "# Задается начальное значение начала тестирования start_test с применением метода date из библиотеки datetime\n",
    "start_test = dt.date(2020, 12, 7)\n",
    "\n",
    "# Задается начальное значение остановки набора пользователей в тестируемые группы,\n",
    "# с применением метода date из библиотеки datetime\n",
    "end_test = dt.date(2021,1,4)\n",
    "\n",
    "# Задается дата остановки теста stop_recruiting с применением метода date из библиотеки datetime:\n",
    "stop_recruiting = dt.date(2020,12,21)\n",
    "\n",
    "# Вывод внедренных переменных с помощью f-строк\n",
    "print(f' Период тестирования c {start_test} по  {end_test}')\n",
    "print(f' Дата остановки набора новых пользователей: {stop_recruiting}')"
   ]
  },
  {
   "cell_type": "markdown",
   "id": "39f17aa8",
   "metadata": {},
   "source": [
    "#### Обзор датасета *final_ab_events* на соответствие датам ТЗ"
   ]
  },
  {
   "cell_type": "markdown",
   "id": "dec155f9",
   "metadata": {},
   "source": [
    "Проверим все данные на предмет активностей и пр. событий, произошедших в период проведения тестирования с 2020-12-07 по 2021-01-04. "
   ]
  },
  {
   "cell_type": "code",
   "execution_count": 25,
   "id": "cccdc134",
   "metadata": {},
   "outputs": [
    {
     "name": "stdout",
     "output_type": "stream",
     "text": [
      "Минимальная дата в датасете: 2020-12-07 00:00:00\n",
      "Максимальная дата в датасете: 2020-12-30 00:00:00\n"
     ]
    }
   ],
   "source": [
    "# Проверка делается при помощи вывода min и max значений в столбце 'event_dt' датасета final_ab_events\n",
    "# и выводятся результаты при использовании f-строк:\n",
    "print(f'Минимальная дата в датасете: {final_ab_events[\"event_dt\"].min()}')\n",
    "print(f'Максимальная дата в датасете: {final_ab_events[\"event_dt\"].max()}')\n"
   ]
  },
  {
   "cell_type": "markdown",
   "id": "e505eccb",
   "metadata": {},
   "source": [
    "Напомним, что датасет *final_ab_events* отвечает за сбор активности новых пользователей. Начальная дата датасета совпадает с началом тестирования, по этой причине, все стартовые записи соответствует требованиям. Тест закончился 04.01.2021, это означает, что любая активность превышающая эту дату, не должна попасть в анализ.\\\n",
    "Однако в датасете отсутствуют данные об активности пользователей в период с 2020-12-30 по 2021-01-04. Возможно это связано с закрытием магазина на новогодний период."
   ]
  },
  {
   "cell_type": "markdown",
   "id": "9670b2ff",
   "metadata": {},
   "source": [
    "Отсечку по дате окончания теста, все же устаноим."
   ]
  },
  {
   "cell_type": "code",
   "execution_count": 26,
   "id": "37120ba7",
   "metadata": {},
   "outputs": [],
   "source": [
    "# Использован метод логической фильтрации методом query, в который переданы условия 'event_dt <= @end_test',\n",
    "# а также произведена перезапись датафрейма final_ab_events с уже очищенными данными.\n",
    "final_ab_events = final_ab_events.query('event_dt <= @end_test')\n"
   ]
  },
  {
   "cell_type": "markdown",
   "id": "44d6d6af",
   "metadata": {},
   "source": [
    "#### Обзор датасета *ab_project_marketing_events* на соответствие датам ТЗ "
   ]
  },
  {
   "cell_type": "markdown",
   "id": "a29122c3",
   "metadata": {},
   "source": [
    "Посмотрим, какие маркетинговые акции действовали в период тсестирования."
   ]
  },
  {
   "cell_type": "markdown",
   "id": "bef59a91",
   "metadata": {},
   "source": [
    "Для начала отфильтруем все маркетинговые акции которые коснулись региона EU, т.к. требования ТЗ указывают на исследования в данном регионе."
   ]
  },
  {
   "cell_type": "code",
   "execution_count": 27,
   "id": "7083c480",
   "metadata": {
    "scrolled": true
   },
   "outputs": [
    {
     "data": {
      "text/plain": [
       "array(['eu, n.america', 'eu, cis, apac, n.america', 'eu, cis, apac'],\n",
       "      dtype=object)"
      ]
     },
     "execution_count": 27,
     "metadata": {},
     "output_type": "execute_result"
    }
   ],
   "source": [
    "# Используется метод логической фильтрации с применением функции loc, которая обращается к \n",
    "# ab_project_marketing_events['regions']. В части логического условия используется набор функций str.contains,\n",
    "#  Которым передается параметр части строки eu, чувствительность к регистру задан case=False и использование \n",
    "# регулярного выражения regex=True:\n",
    "region_promo = ab_project_marketing_events.loc[ab_project_marketing_events['regions']\n",
    "                                               .str.contains('eu', case=False, regex=True)]\n",
    "\n",
    "# Проверка результата логической фильтрации:\n",
    "region_promo['regions'].unique()"
   ]
  },
  {
   "cell_type": "markdown",
   "id": "843ecca5",
   "metadata": {},
   "source": [
    "Проверим все события, когда дата промоакция началась раньше или в день начала теста, но закончилась раньше или в день окончания теста или когда акция началась позже или в день начала теста, а закончится могла позже окончания теста. В данном случае буду выведены все промоакции при различных условиях их страта и окончания. При этом в выбор попадают только те промокации, которые могли относится к региону EU:"
   ]
  },
  {
   "cell_type": "code",
   "execution_count": 28,
   "id": "e7f40643",
   "metadata": {},
   "outputs": [
    {
     "data": {
      "text/html": [
       "<div>\n",
       "<style scoped>\n",
       "    .dataframe tbody tr th:only-of-type {\n",
       "        vertical-align: middle;\n",
       "    }\n",
       "\n",
       "    .dataframe tbody tr th {\n",
       "        vertical-align: top;\n",
       "    }\n",
       "\n",
       "    .dataframe thead th {\n",
       "        text-align: right;\n",
       "    }\n",
       "</style>\n",
       "<table border=\"1\" class=\"dataframe\">\n",
       "  <thead>\n",
       "    <tr style=\"text-align: right;\">\n",
       "      <th></th>\n",
       "      <th>name</th>\n",
       "      <th>regions</th>\n",
       "      <th>start_dt</th>\n",
       "      <th>finish_dt</th>\n",
       "    </tr>\n",
       "  </thead>\n",
       "  <tbody>\n",
       "    <tr>\n",
       "      <th>0</th>\n",
       "      <td>christmas&amp;new year promo</td>\n",
       "      <td>eu, n.america</td>\n",
       "      <td>2020-12-25</td>\n",
       "      <td>2021-01-03</td>\n",
       "    </tr>\n",
       "  </tbody>\n",
       "</table>\n",
       "</div>"
      ],
      "text/plain": [
       "                       name        regions   start_dt  finish_dt\n",
       "0  christmas&new year promo  eu, n.america 2020-12-25 2021-01-03"
      ]
     },
     "execution_count": 28,
     "metadata": {},
     "output_type": "execute_result"
    }
   ],
   "source": [
    "#  Для вывода используеся метод логической фильтрации с применением функции query и двумя параметрами \n",
    "# условий по временным интервалам\n",
    "region_promo.query(('start_dt >= @start_test and finish_dt <= @end_test') \n",
    "                   or ('start_dt <= @start_test and finish_dt >= @end_test') )"
   ]
  },
  {
   "cell_type": "markdown",
   "id": "ee3d0c5d",
   "metadata": {},
   "source": [
    "В период проведения A/B тестирования, проходила маркетинговая акция *christmas&new year promo* которая коснулась региона *eu*. Однозначного вывода о том как влияет проведение акции на результаты тестирования, нет. Данное обстоятельство требует отдельного обзора."
   ]
  },
  {
   "cell_type": "markdown",
   "id": "66422e96",
   "metadata": {},
   "source": [
    "#### Обзор датасета  final_ab_new_users на соответствие датам ТЗ"
   ]
  },
  {
   "cell_type": "markdown",
   "id": "96253acd",
   "metadata": {},
   "source": [
    "Проверим пеириод регистрации пользователей в датасете"
   ]
  },
  {
   "cell_type": "code",
   "execution_count": 29,
   "id": "834b3b38",
   "metadata": {},
   "outputs": [
    {
     "name": "stdout",
     "output_type": "stream",
     "text": [
      " Начальная дата в данных: 2020-12-07 00:00:00\n",
      " Конечная дата в данных: 2020-12-23 00:00:00\n"
     ]
    }
   ],
   "source": [
    "# Используется вывод с помощью f-строки функций min и max по данным из final_ab_new_users[\"first_date\"]\n",
    "print(f' Начальная дата в данных: {final_ab_new_users[\"first_date\"].min()}')\n",
    "print(f' Конечная дата в данных: {final_ab_new_users[\"first_date\"].max()}')"
   ]
  },
  {
   "cell_type": "markdown",
   "id": "1859ae10",
   "metadata": {},
   "source": [
    "Т.к. в ТЗ был указан период набора пользователей с 2020-12-07 по 2020-12-21, то данные превышающие эту дату будут лишними и требуют их удаления."
   ]
  },
  {
   "cell_type": "code",
   "execution_count": 30,
   "id": "a15f38e8",
   "metadata": {},
   "outputs": [
    {
     "data": {
      "text/plain": [
       "Timestamp('2020-12-21 00:00:00')"
      ]
     },
     "execution_count": 30,
     "metadata": {},
     "output_type": "execute_result"
    }
   ],
   "source": [
    "# Перезапись датасета final_ab_new_users данными после логической фильтрации с использованием метода query и условия, \n",
    "# которое задает ограничение first_date меньше или равно переменной stop_recruiting:\n",
    "final_ab_new_users = final_ab_new_users.query('first_date <= @stop_recruiting')\n",
    "\n",
    "# Проверка максимальной даты first_date функцией max:\n",
    "final_ab_new_users[\"first_date\"].max()"
   ]
  },
  {
   "cell_type": "markdown",
   "id": "f942b380",
   "metadata": {},
   "source": [
    "Как видно, данные соответствуют условиям ТЗ.\\\n",
    "Подсчитаем, сколько уникальных пользователей осталось в датасете после его усечения."
   ]
  },
  {
   "cell_type": "code",
   "execution_count": 31,
   "id": "127ea063",
   "metadata": {},
   "outputs": [
    {
     "data": {
      "text/plain": [
       "56470"
      ]
     },
     "execution_count": 31,
     "metadata": {},
     "output_type": "execute_result"
    }
   ],
   "source": [
    "final_ab_new_users['user_id'].nunique()"
   ]
  },
  {
   "cell_type": "markdown",
   "id": "e75d6d96",
   "metadata": {},
   "source": [
    "Данные были очищены, результат вполне приемлим."
   ]
  },
  {
   "cell_type": "markdown",
   "id": "fdfd2764",
   "metadata": {},
   "source": [
    "#### Обзор датасета  final_ab_participants на соответствие датам ТЗ"
   ]
  },
  {
   "cell_type": "markdown",
   "id": "aee8bf94",
   "metadata": {},
   "source": [
    "***!!ПРОВЕРИТЬ НЕОБХОДИМОСТЬ ДАННОЙ ПРОВЕРКИ!!***"
   ]
  },
  {
   "cell_type": "code",
   "execution_count": 32,
   "id": "64df4308",
   "metadata": {
    "scrolled": true
   },
   "outputs": [
    {
     "name": "stdout",
     "output_type": "stream",
     "text": [
      "<class 'pandas.core.frame.DataFrame'>\n",
      "Int64Index: 6701 entries, 0 to 6700\n",
      "Data columns (total 3 columns):\n",
      " #   Column   Non-Null Count  Dtype \n",
      "---  ------   --------------  ----- \n",
      " 0   user_id  6701 non-null   object\n",
      " 1   group    6701 non-null   object\n",
      " 2   ab_test  6701 non-null   object\n",
      "dtypes: object(3)\n",
      "memory usage: 209.4+ KB\n"
     ]
    }
   ],
   "source": [
    "final_ab_participants.info()"
   ]
  },
  {
   "cell_type": "markdown",
   "id": "43afe485",
   "metadata": {},
   "source": [
    "В данном датасете временных параметров данных нет."
   ]
  },
  {
   "cell_type": "markdown",
   "id": "2be31d52",
   "metadata": {},
   "source": [
    "### Аудитория: в тест должно быть отобрано 15% новых пользователей из региона EU"
   ]
  },
  {
   "cell_type": "markdown",
   "id": "87f58492",
   "metadata": {},
   "source": [
    "Проверим количество новых пользователей из региона EU, котрые попадут в тестирование, а так же посчитаем какой процент от их общего клоичества попадет в тестовые группы.\\\n",
    "Для начала оценим, пользователи из каких регионов присутсвуют в датасете."
   ]
  },
  {
   "cell_type": "code",
   "execution_count": 33,
   "id": "5643ec4c",
   "metadata": {
    "scrolled": true
   },
   "outputs": [
    {
     "data": {
      "text/plain": [
       "array(['EU', 'N.America', 'APAC', 'CIS'], dtype=object)"
      ]
     },
     "execution_count": 33,
     "metadata": {},
     "output_type": "execute_result"
    }
   ],
   "source": [
    "# Использован метод unique, для отбора уникальных значений столбца 'region'\n",
    "final_ab_new_users['region'].unique()"
   ]
  },
  {
   "cell_type": "markdown",
   "id": "a52b2306",
   "metadata": {},
   "source": [
    "Всего четыре региона содержатся в записях датасета final_ab_new_users, один из них нас интересующий."
   ]
  },
  {
   "cell_type": "markdown",
   "id": "b94e3392",
   "metadata": {},
   "source": [
    "Создадим срез всех новых пользователей из региона EU и запишем в переменную *eu_users*"
   ]
  },
  {
   "cell_type": "code",
   "execution_count": 34,
   "id": "9095a69b",
   "metadata": {
    "scrolled": true
   },
   "outputs": [
    {
     "data": {
      "text/plain": [
       "array(['EU'], dtype=object)"
      ]
     },
     "execution_count": 34,
     "metadata": {},
     "output_type": "execute_result"
    }
   ],
   "source": [
    "# Используется метод логической фильтрации, когда отбор строк из столбца 'region' соответствующий значению EU, выбирается\n",
    "# из датасета, при этом необходимо не забывать чувствительность к регистру условий фильтрации:\n",
    "eu_users = final_ab_new_users[final_ab_new_users[\"region\"]== \"EU\"]\n",
    "\n",
    "# вывод уникальных значений методом unique\n",
    "eu_users['region'].unique()"
   ]
  },
  {
   "cell_type": "markdown",
   "id": "87dac039",
   "metadata": {},
   "source": [
    "Иных строк, кроме содержащих регион EU в датасете *eu_users*, не обнаружено  "
   ]
  },
  {
   "cell_type": "code",
   "execution_count": 35,
   "id": "eb61dc73",
   "metadata": {},
   "outputs": [
    {
     "data": {
      "text/plain": [
       "' Всего пользователей из EU: 42340'"
      ]
     },
     "execution_count": 35,
     "metadata": {},
     "output_type": "execute_result"
    }
   ],
   "source": [
    "# Вывод результатов подсчета количества записей уникальных пользователей, полученных методом nunique:\n",
    "f' Всего пользователей из EU: {eu_users[\"user_id\"].nunique()}'"
   ]
  },
  {
   "cell_type": "markdown",
   "id": "2d1c4301",
   "metadata": {},
   "source": [
    "Для подсчета количества пользователей, принимающих участие в тесте *recommender_system_test*, создадим срез в final_ab_participants и запишем его в переменную user_id_test"
   ]
  },
  {
   "cell_type": "code",
   "execution_count": 36,
   "id": "7dca61ec",
   "metadata": {},
   "outputs": [
    {
     "data": {
      "text/html": [
       "<div>\n",
       "<style scoped>\n",
       "    .dataframe tbody tr th:only-of-type {\n",
       "        vertical-align: middle;\n",
       "    }\n",
       "\n",
       "    .dataframe tbody tr th {\n",
       "        vertical-align: top;\n",
       "    }\n",
       "\n",
       "    .dataframe thead th {\n",
       "        text-align: right;\n",
       "    }\n",
       "</style>\n",
       "<table border=\"1\" class=\"dataframe\">\n",
       "  <thead>\n",
       "    <tr style=\"text-align: right;\">\n",
       "      <th></th>\n",
       "      <th>user_id</th>\n",
       "      <th>group</th>\n",
       "      <th>ab_test</th>\n",
       "    </tr>\n",
       "  </thead>\n",
       "  <tbody>\n",
       "    <tr>\n",
       "      <th>0</th>\n",
       "      <td>D1ABA3E2887B6A73</td>\n",
       "      <td>A</td>\n",
       "      <td>recommender_system_test</td>\n",
       "    </tr>\n",
       "    <tr>\n",
       "      <th>1</th>\n",
       "      <td>A7A3664BD6242119</td>\n",
       "      <td>A</td>\n",
       "      <td>recommender_system_test</td>\n",
       "    </tr>\n",
       "    <tr>\n",
       "      <th>2</th>\n",
       "      <td>DABC14FDDFADD29E</td>\n",
       "      <td>A</td>\n",
       "      <td>recommender_system_test</td>\n",
       "    </tr>\n",
       "    <tr>\n",
       "      <th>3</th>\n",
       "      <td>04988C5DF189632E</td>\n",
       "      <td>A</td>\n",
       "      <td>recommender_system_test</td>\n",
       "    </tr>\n",
       "    <tr>\n",
       "      <th>4</th>\n",
       "      <td>482F14783456D21B</td>\n",
       "      <td>B</td>\n",
       "      <td>recommender_system_test</td>\n",
       "    </tr>\n",
       "    <tr>\n",
       "      <th>...</th>\n",
       "      <td>...</td>\n",
       "      <td>...</td>\n",
       "      <td>...</td>\n",
       "    </tr>\n",
       "    <tr>\n",
       "      <th>6696</th>\n",
       "      <td>053FB26D6D49EDDC</td>\n",
       "      <td>A</td>\n",
       "      <td>recommender_system_test</td>\n",
       "    </tr>\n",
       "    <tr>\n",
       "      <th>6697</th>\n",
       "      <td>9D263B8EF15CF188</td>\n",
       "      <td>B</td>\n",
       "      <td>recommender_system_test</td>\n",
       "    </tr>\n",
       "    <tr>\n",
       "      <th>6698</th>\n",
       "      <td>F2FBBA33F37DEC46</td>\n",
       "      <td>A</td>\n",
       "      <td>recommender_system_test</td>\n",
       "    </tr>\n",
       "    <tr>\n",
       "      <th>6699</th>\n",
       "      <td>29C92313A98B1176</td>\n",
       "      <td>B</td>\n",
       "      <td>recommender_system_test</td>\n",
       "    </tr>\n",
       "    <tr>\n",
       "      <th>6700</th>\n",
       "      <td>6715343AFBA285AE</td>\n",
       "      <td>B</td>\n",
       "      <td>recommender_system_test</td>\n",
       "    </tr>\n",
       "  </tbody>\n",
       "</table>\n",
       "<p>6701 rows × 3 columns</p>\n",
       "</div>"
      ],
      "text/plain": [
       "               user_id group                  ab_test\n",
       "0     D1ABA3E2887B6A73     A  recommender_system_test\n",
       "1     A7A3664BD6242119     A  recommender_system_test\n",
       "2     DABC14FDDFADD29E     A  recommender_system_test\n",
       "3     04988C5DF189632E     A  recommender_system_test\n",
       "4     482F14783456D21B     B  recommender_system_test\n",
       "...                ...   ...                      ...\n",
       "6696  053FB26D6D49EDDC     A  recommender_system_test\n",
       "6697  9D263B8EF15CF188     B  recommender_system_test\n",
       "6698  F2FBBA33F37DEC46     A  recommender_system_test\n",
       "6699  29C92313A98B1176     B  recommender_system_test\n",
       "6700  6715343AFBA285AE     B  recommender_system_test\n",
       "\n",
       "[6701 rows x 3 columns]"
      ]
     },
     "execution_count": 36,
     "metadata": {},
     "output_type": "execute_result"
    }
   ],
   "source": [
    "# Применяется я логическая фильтрация методом query с логическим условием, где данные из ab_test должны соответствовать \n",
    "# значению recommender_system_test:\n",
    "user_id_test=final_ab_participants.query('ab_test == \"recommender_system_test\"')\n",
    "\n",
    "# Вывод результатов фильтрации:\n",
    "user_id_test"
   ]
  },
  {
   "cell_type": "markdown",
   "id": "b6a98dca",
   "metadata": {},
   "source": [
    "Произведем подсчет количества уникальных пользователей, учавствующих в *recommender_system_test* за указанный период и результат запишем в переменную eu_user_test"
   ]
  },
  {
   "cell_type": "code",
   "execution_count": 37,
   "id": "bfbb6242",
   "metadata": {
    "scrolled": false
   },
   "outputs": [
    {
     "data": {
      "text/plain": [
       "' Всего пользователей из EU, принявших участие в тесте \"recommender_system_test\": 6351'"
      ]
     },
     "execution_count": 37,
     "metadata": {},
     "output_type": "execute_result"
    }
   ],
   "source": [
    "# Используется метод логической фильтрации к датасету eu_users по условию, которое определяет значения eu_users['user_id'],\n",
    "# соответствуют значениям user_id_test['user_id']. Подсчет произведём методом nunique:\n",
    "eu_user_test=eu_users[eu_users['user_id'].isin(user_id_test['user_id'])]['user_id'].nunique()\n",
    "\n",
    "# Вывод результата подсчёта:\n",
    "f' Всего пользователей из EU, принявших участие в тесте \"recommender_system_test\": {eu_user_test}'"
   ]
  },
  {
   "cell_type": "markdown",
   "id": "a12bf9c0",
   "metadata": {},
   "source": [
    "Произведем подсчет % аудитории из региона EU, принявших участие в тете *recommender_system_test*, к общему числу пользователей из данного региона:"
   ]
  },
  {
   "cell_type": "code",
   "execution_count": 38,
   "id": "a8a0eb7c",
   "metadata": {
    "scrolled": false
   },
   "outputs": [
    {
     "name": "stdout",
     "output_type": "stream",
     "text": [
      "Процент аудитории из EU: 15.00%\n"
     ]
    }
   ],
   "source": [
    "print('Процент аудитории из EU: {:.2%}'.format(eu_user_test / eu_users[\"user_id\"].nunique()))"
   ]
  },
  {
   "cell_type": "markdown",
   "id": "9b947fd6",
   "metadata": {},
   "source": [
    "В выборку попала требуемое количество пользователей из региона EU, что соотвествует ТЗ"
   ]
  },
  {
   "cell_type": "markdown",
   "id": "e6bbfbaa",
   "metadata": {},
   "source": [
    "В выборку попали пользователи из других регионов, что может помешать проведению теста. От данных записей избавимся в основном датасете *final_ab_new_users*"
   ]
  },
  {
   "cell_type": "code",
   "execution_count": 39,
   "id": "95ebe8ca",
   "metadata": {},
   "outputs": [
    {
     "data": {
      "text/plain": [
       "array(['EU'], dtype=object)"
      ]
     },
     "execution_count": 39,
     "metadata": {},
     "output_type": "execute_result"
    }
   ],
   "source": [
    "# Перезапись датасета final_ab_new_users после логической фильтрации методом query в котором задано условие, \n",
    "# что region == \"EU\":\n",
    "final_ab_new_users = final_ab_new_users.query('region == \"EU\"')\n",
    "\n",
    "# Проверка уникальных значений 'region' методом unique после усечения датасета final_ab_new_users:\n",
    "final_ab_new_users['region'].unique()"
   ]
  },
  {
   "cell_type": "markdown",
   "id": "c7756095",
   "metadata": {},
   "source": [
    "В результате обработки данных в final_ab_new_users, в нем остались записи относящиеся только к региону EU"
   ]
  },
  {
   "cell_type": "markdown",
   "id": "1df843ee",
   "metadata": {},
   "source": [
    "### Проверка на соответствие ТЗ о ожидаемом количестве участников теста: 6000."
   ]
  },
  {
   "cell_type": "markdown",
   "id": "5cccd76a",
   "metadata": {},
   "source": [
    "Проверим, сколько уникальных участников теста осталось, после обработки данных:"
   ]
  },
  {
   "cell_type": "code",
   "execution_count": 40,
   "id": "c0b7dc73",
   "metadata": {},
   "outputs": [
    {
     "data": {
      "text/plain": [
       "6701"
      ]
     },
     "execution_count": 40,
     "metadata": {},
     "output_type": "execute_result"
    }
   ],
   "source": [
    "# Используется метод логической фильтрации query и метод подсчета уникальных значений nunique\n",
    "final_ab_participants.query('ab_test == \"recommender_system_test\"')['user_id'].nunique()"
   ]
  },
  {
   "cell_type": "markdown",
   "id": "cccff0cb",
   "metadata": {},
   "source": [
    "Количество пользователей участвующих в тесте, соответствует требованиям ТЗ"
   ]
  },
  {
   "cell_type": "markdown",
   "id": "ae3ef535",
   "metadata": {},
   "source": [
    "### Проверка на соотвествие ТЗ лайфтайма в 14 дней"
   ]
  },
  {
   "cell_type": "markdown",
   "id": "f6588431",
   "metadata": {},
   "source": [
    "Необходимо отбросить всю активность пользователя спустя 14 дней после регистрации. Для начала, составим список первого дня события всех пользователей и запишем в переменную *first_dt*."
   ]
  },
  {
   "cell_type": "code",
   "execution_count": 41,
   "id": "4b842274",
   "metadata": {},
   "outputs": [
    {
     "data": {
      "text/html": [
       "<div>\n",
       "<style scoped>\n",
       "    .dataframe tbody tr th:only-of-type {\n",
       "        vertical-align: middle;\n",
       "    }\n",
       "\n",
       "    .dataframe tbody tr th {\n",
       "        vertical-align: top;\n",
       "    }\n",
       "\n",
       "    .dataframe thead th {\n",
       "        text-align: right;\n",
       "    }\n",
       "</style>\n",
       "<table border=\"1\" class=\"dataframe\">\n",
       "  <thead>\n",
       "    <tr style=\"text-align: right;\">\n",
       "      <th></th>\n",
       "      <th>user_id</th>\n",
       "      <th>first_dt</th>\n",
       "    </tr>\n",
       "  </thead>\n",
       "  <tbody>\n",
       "    <tr>\n",
       "      <th>0</th>\n",
       "      <td>0001710F4DDB1D1B</td>\n",
       "      <td>2020-12-14</td>\n",
       "    </tr>\n",
       "    <tr>\n",
       "      <th>1</th>\n",
       "      <td>000199F1887AE5E6</td>\n",
       "      <td>2020-12-14</td>\n",
       "    </tr>\n",
       "    <tr>\n",
       "      <th>2</th>\n",
       "      <td>0002499E372175C7</td>\n",
       "      <td>2020-12-22</td>\n",
       "    </tr>\n",
       "    <tr>\n",
       "      <th>3</th>\n",
       "      <td>0002CE61FF2C4011</td>\n",
       "      <td>2020-12-07</td>\n",
       "    </tr>\n",
       "    <tr>\n",
       "      <th>4</th>\n",
       "      <td>000456437D0EFFE1</td>\n",
       "      <td>2020-12-15</td>\n",
       "    </tr>\n",
       "    <tr>\n",
       "      <th>...</th>\n",
       "      <td>...</td>\n",
       "      <td>...</td>\n",
       "    </tr>\n",
       "    <tr>\n",
       "      <th>58698</th>\n",
       "      <td>FFF7A7BAF44FE9B4</td>\n",
       "      <td>2020-12-19</td>\n",
       "    </tr>\n",
       "    <tr>\n",
       "      <th>58699</th>\n",
       "      <td>FFF8FDBE2FE99C91</td>\n",
       "      <td>2020-12-20</td>\n",
       "    </tr>\n",
       "    <tr>\n",
       "      <th>58700</th>\n",
       "      <td>FFF91B6C5431F375</td>\n",
       "      <td>2020-12-14</td>\n",
       "    </tr>\n",
       "    <tr>\n",
       "      <th>58701</th>\n",
       "      <td>FFFAB034A09DCC28</td>\n",
       "      <td>2020-12-18</td>\n",
       "    </tr>\n",
       "    <tr>\n",
       "      <th>58702</th>\n",
       "      <td>FFFFE36C0F6E92DF</td>\n",
       "      <td>2020-12-22</td>\n",
       "    </tr>\n",
       "  </tbody>\n",
       "</table>\n",
       "<p>58703 rows × 2 columns</p>\n",
       "</div>"
      ],
      "text/plain": [
       "                user_id   first_dt\n",
       "0      0001710F4DDB1D1B 2020-12-14\n",
       "1      000199F1887AE5E6 2020-12-14\n",
       "2      0002499E372175C7 2020-12-22\n",
       "3      0002CE61FF2C4011 2020-12-07\n",
       "4      000456437D0EFFE1 2020-12-15\n",
       "...                 ...        ...\n",
       "58698  FFF7A7BAF44FE9B4 2020-12-19\n",
       "58699  FFF8FDBE2FE99C91 2020-12-20\n",
       "58700  FFF91B6C5431F375 2020-12-14\n",
       "58701  FFFAB034A09DCC28 2020-12-18\n",
       "58702  FFFFE36C0F6E92DF 2020-12-22\n",
       "\n",
       "[58703 rows x 2 columns]"
      ]
     },
     "execution_count": 41,
     "metadata": {},
     "output_type": "execute_result"
    }
   ],
   "source": [
    "# Для начала произведена сортировка по возрастанию данных методом sort_values по значениям в столбце 'event_dt' \n",
    "# датафрейма final_ab_events, после чего проведена группировка данных полученного датафрейма по столбцу 'user_id'.\n",
    "# В процессе группировки применяется метод выборки данных с помощью метода agg, которому передается аргумент first\n",
    "# для столбца 'event_dt', что в последствии отбирает только первые значения 'event_dt' по каждому пользователю:\n",
    "first_dt = final_ab_events.sort_values(by='event_dt').groupby(['user_id'], as_index=False)\\\n",
    "    .agg({'event_dt' : 'first'})\\\n",
    "    .rename(columns={'event_dt':'first_dt'}) # переименовывается название колонки 'event_dt' в 'first_dt'\n",
    "\n",
    "# Выводится полученная таблица с данными первой активности пользователей\n",
    "first_dt"
   ]
  },
  {
   "cell_type": "markdown",
   "id": "61b48424",
   "metadata": {},
   "source": [
    "Объединим журнал событий пользователей *final_ab_events* c *first_dt* по *user_id*. Тем самым получим датафрейм с данными о событиях и регистром первого дня активности."
   ]
  },
  {
   "cell_type": "code",
   "execution_count": 42,
   "id": "166e0ca3",
   "metadata": {},
   "outputs": [
    {
     "data": {
      "text/html": [
       "<div>\n",
       "<style scoped>\n",
       "    .dataframe tbody tr th:only-of-type {\n",
       "        vertical-align: middle;\n",
       "    }\n",
       "\n",
       "    .dataframe tbody tr th {\n",
       "        vertical-align: top;\n",
       "    }\n",
       "\n",
       "    .dataframe thead th {\n",
       "        text-align: right;\n",
       "    }\n",
       "</style>\n",
       "<table border=\"1\" class=\"dataframe\">\n",
       "  <thead>\n",
       "    <tr style=\"text-align: right;\">\n",
       "      <th></th>\n",
       "      <th>user_id</th>\n",
       "      <th>event_dt</th>\n",
       "      <th>event_name</th>\n",
       "      <th>details</th>\n",
       "      <th>first_dt</th>\n",
       "    </tr>\n",
       "  </thead>\n",
       "  <tbody>\n",
       "    <tr>\n",
       "      <th>0</th>\n",
       "      <td>E1BDDCE0DAFA2679</td>\n",
       "      <td>2020-12-07</td>\n",
       "      <td>purchase</td>\n",
       "      <td>99.99</td>\n",
       "      <td>2020-12-07</td>\n",
       "    </tr>\n",
       "    <tr>\n",
       "      <th>1</th>\n",
       "      <td>7B6452F081F49504</td>\n",
       "      <td>2020-12-07</td>\n",
       "      <td>purchase</td>\n",
       "      <td>9.99</td>\n",
       "      <td>2020-12-07</td>\n",
       "    </tr>\n",
       "    <tr>\n",
       "      <th>2</th>\n",
       "      <td>9CD9F34546DF254C</td>\n",
       "      <td>2020-12-07</td>\n",
       "      <td>purchase</td>\n",
       "      <td>4.99</td>\n",
       "      <td>2020-12-07</td>\n",
       "    </tr>\n",
       "    <tr>\n",
       "      <th>3</th>\n",
       "      <td>96F27A054B191457</td>\n",
       "      <td>2020-12-07</td>\n",
       "      <td>purchase</td>\n",
       "      <td>4.99</td>\n",
       "      <td>2020-12-07</td>\n",
       "    </tr>\n",
       "    <tr>\n",
       "      <th>4</th>\n",
       "      <td>1FD7660FDF94CA1F</td>\n",
       "      <td>2020-12-07</td>\n",
       "      <td>purchase</td>\n",
       "      <td>4.99</td>\n",
       "      <td>2020-12-07</td>\n",
       "    </tr>\n",
       "    <tr>\n",
       "      <th>...</th>\n",
       "      <td>...</td>\n",
       "      <td>...</td>\n",
       "      <td>...</td>\n",
       "      <td>...</td>\n",
       "      <td>...</td>\n",
       "    </tr>\n",
       "    <tr>\n",
       "      <th>440310</th>\n",
       "      <td>245E85F65C358E08</td>\n",
       "      <td>2020-12-30</td>\n",
       "      <td>login</td>\n",
       "      <td>NaN</td>\n",
       "      <td>2020-12-07</td>\n",
       "    </tr>\n",
       "    <tr>\n",
       "      <th>440311</th>\n",
       "      <td>9385A108F5A0A7A7</td>\n",
       "      <td>2020-12-30</td>\n",
       "      <td>login</td>\n",
       "      <td>NaN</td>\n",
       "      <td>2020-12-07</td>\n",
       "    </tr>\n",
       "    <tr>\n",
       "      <th>440312</th>\n",
       "      <td>DB650B7559AC6EAC</td>\n",
       "      <td>2020-12-30</td>\n",
       "      <td>login</td>\n",
       "      <td>NaN</td>\n",
       "      <td>2020-12-07</td>\n",
       "    </tr>\n",
       "    <tr>\n",
       "      <th>440313</th>\n",
       "      <td>F80C9BDDEA02E53C</td>\n",
       "      <td>2020-12-30</td>\n",
       "      <td>login</td>\n",
       "      <td>NaN</td>\n",
       "      <td>2020-12-07</td>\n",
       "    </tr>\n",
       "    <tr>\n",
       "      <th>440314</th>\n",
       "      <td>7AEC61159B672CC5</td>\n",
       "      <td>2020-12-30</td>\n",
       "      <td>login</td>\n",
       "      <td>NaN</td>\n",
       "      <td>2020-12-07</td>\n",
       "    </tr>\n",
       "  </tbody>\n",
       "</table>\n",
       "<p>440315 rows × 5 columns</p>\n",
       "</div>"
      ],
      "text/plain": [
       "                 user_id   event_dt event_name  details   first_dt\n",
       "0       E1BDDCE0DAFA2679 2020-12-07   purchase    99.99 2020-12-07\n",
       "1       7B6452F081F49504 2020-12-07   purchase     9.99 2020-12-07\n",
       "2       9CD9F34546DF254C 2020-12-07   purchase     4.99 2020-12-07\n",
       "3       96F27A054B191457 2020-12-07   purchase     4.99 2020-12-07\n",
       "4       1FD7660FDF94CA1F 2020-12-07   purchase     4.99 2020-12-07\n",
       "...                  ...        ...        ...      ...        ...\n",
       "440310  245E85F65C358E08 2020-12-30      login      NaN 2020-12-07\n",
       "440311  9385A108F5A0A7A7 2020-12-30      login      NaN 2020-12-07\n",
       "440312  DB650B7559AC6EAC 2020-12-30      login      NaN 2020-12-07\n",
       "440313  F80C9BDDEA02E53C 2020-12-30      login      NaN 2020-12-07\n",
       "440314  7AEC61159B672CC5 2020-12-30      login      NaN 2020-12-07\n",
       "\n",
       "[440315 rows x 5 columns]"
      ]
     },
     "execution_count": 42,
     "metadata": {},
     "output_type": "execute_result"
    }
   ],
   "source": [
    "# Объединение датасетов final_ab_events и first_dt производится методом merge с аргументами how='left' и по общему столбцу \n",
    "# 'user_id'. В завершении производится перезапись final_ab_events по уже объединенным данным:\n",
    "final_ab_events = final_ab_events.merge(first_dt, how='left', on='user_id')\n",
    "\n",
    "# Вывод полученных результатов после объединения:\n",
    "final_ab_events"
   ]
  },
  {
   "cell_type": "markdown",
   "id": "43adcd63",
   "metadata": {},
   "source": [
    "Вычислим лайфтайм каждого события, относительно первого дня активности пользователя."
   ]
  },
  {
   "cell_type": "code",
   "execution_count": 43,
   "id": "0bc5fa0e",
   "metadata": {},
   "outputs": [
    {
     "data": {
      "text/plain": [
       "array([ 0,  1,  2,  3,  4,  5,  6,  7,  8,  9, 10, 11, 12, 13, 14, 15, 16,\n",
       "       17, 18, 19, 20, 21, 22, 23], dtype=int64)"
      ]
     },
     "execution_count": 43,
     "metadata": {},
     "output_type": "execute_result"
    }
   ],
   "source": [
    "# Для вычислений используется метод days из библиотеки datetime, который обработает разность между датами из 'event_dt'\n",
    "# и 'first_dt'. Полученный результат записывается в столбец 'lifetime'\n",
    "final_ab_events['lifetime']=(final_ab_events['event_dt'] - final_ab_events['first_dt']).dt.days\n",
    "\n",
    "# Проверка полученного результата методом unique, который выведет все уникальные значения этого столбца\n",
    "final_ab_events['lifetime'].unique()"
   ]
  },
  {
   "cell_type": "markdown",
   "id": "d53eef8a",
   "metadata": {},
   "source": [
    "В заключительном шаге удалим все события пользователей, у которых лайфтайм более 14 дней."
   ]
  },
  {
   "cell_type": "code",
   "execution_count": 44,
   "id": "8edc250e",
   "metadata": {},
   "outputs": [
    {
     "data": {
      "text/plain": [
       "array([ 0,  1,  2,  3,  4,  5,  6,  7,  8,  9, 10, 11, 12, 13, 14],\n",
       "      dtype=int64)"
      ]
     },
     "execution_count": 44,
     "metadata": {},
     "output_type": "execute_result"
    }
   ],
   "source": [
    "# Методом query отбрасываются данные, не удовлетворяющие условию 'lifetime <= 14'\n",
    "final_ab_events = final_ab_events.query('lifetime <= 14')\n",
    "\n",
    "# Проверка результатов методом unique, который покажет все уникальные значения 'lifetime'\n",
    "final_ab_events['lifetime'].unique()"
   ]
  },
  {
   "cell_type": "markdown",
   "id": "fccc0899",
   "metadata": {},
   "source": [
    "Таким образом в датафрейме остались данные с активностью пользователей в течении 14 дней с даты ее начала в период проведения теста"
   ]
  },
  {
   "cell_type": "markdown",
   "id": "eb0cbc84",
   "metadata": {},
   "source": [
    "### Обзор возможности влияния на переходов  по платежной воронке "
   ]
  },
  {
   "cell_type": "markdown",
   "id": "61facdab",
   "metadata": {},
   "source": [
    "Для проведения дальнейших исследований становится необходимым объединение датасетов *final_ab_events*, *final_ab_participants*. Консолидированный датасет запишем в переменную data. "
   ]
  },
  {
   "cell_type": "code",
   "execution_count": 45,
   "id": "6588ef5b",
   "metadata": {},
   "outputs": [],
   "source": [
    "# Для объединения final_ab_events и final_ab_participants используется метод merge с аргументом how='inner' и \n",
    "# объединение производится по полю 'user_id' обоих датафреймов\n",
    "data=final_ab_events.merge(final_ab_participants, how='inner', on='user_id')"
   ]
  },
  {
   "cell_type": "markdown",
   "id": "90fd6a5c",
   "metadata": {},
   "source": [
    "Сформируем сводную таблицу, в которой по каждому пользователю выведем шаги, которые он выполнил по платежной воронке.\\\n",
    "Причем если шаги по всем этапам, кроме *purchase* в исходных данных отмечены как NaN, то в сводной таблице они будут посчитаны как нули. А шаги, которые пользователь не совершал, естественным образом отметятся как NaN."
   ]
  },
  {
   "cell_type": "code",
   "execution_count": 62,
   "id": "6455545e",
   "metadata": {},
   "outputs": [
    {
     "data": {
      "text/html": [
       "<div>\n",
       "<style scoped>\n",
       "    .dataframe tbody tr th:only-of-type {\n",
       "        vertical-align: middle;\n",
       "    }\n",
       "\n",
       "    .dataframe tbody tr th {\n",
       "        vertical-align: top;\n",
       "    }\n",
       "\n",
       "    .dataframe thead th {\n",
       "        text-align: right;\n",
       "    }\n",
       "</style>\n",
       "<table border=\"1\" class=\"dataframe\">\n",
       "  <thead>\n",
       "    <tr style=\"text-align: right;\">\n",
       "      <th>event_name</th>\n",
       "      <th>login</th>\n",
       "      <th>product_cart</th>\n",
       "      <th>product_page</th>\n",
       "      <th>purchase</th>\n",
       "      <th>missed_steps</th>\n",
       "    </tr>\n",
       "    <tr>\n",
       "      <th>user_id</th>\n",
       "      <th></th>\n",
       "      <th></th>\n",
       "      <th></th>\n",
       "      <th></th>\n",
       "      <th></th>\n",
       "    </tr>\n",
       "  </thead>\n",
       "  <tbody>\n",
       "    <tr>\n",
       "      <th>0010A1C096941592</th>\n",
       "      <td>0.0</td>\n",
       "      <td>NaN</td>\n",
       "      <td>0.0</td>\n",
       "      <td>4.0</td>\n",
       "      <td>1</td>\n",
       "    </tr>\n",
       "    <tr>\n",
       "      <th>005E096DBD379BCF</th>\n",
       "      <td>0.0</td>\n",
       "      <td>NaN</td>\n",
       "      <td>NaN</td>\n",
       "      <td>2.0</td>\n",
       "      <td>2</td>\n",
       "    </tr>\n",
       "    <tr>\n",
       "      <th>0082295A41A867B5</th>\n",
       "      <td>0.0</td>\n",
       "      <td>0.0</td>\n",
       "      <td>0.0</td>\n",
       "      <td>5.0</td>\n",
       "      <td>0</td>\n",
       "    </tr>\n",
       "    <tr>\n",
       "      <th>00C1F5175586DFCF</th>\n",
       "      <td>0.0</td>\n",
       "      <td>NaN</td>\n",
       "      <td>0.0</td>\n",
       "      <td>3.0</td>\n",
       "      <td>1</td>\n",
       "    </tr>\n",
       "    <tr>\n",
       "      <th>01157AAD4401952B</th>\n",
       "      <td>0.0</td>\n",
       "      <td>NaN</td>\n",
       "      <td>0.0</td>\n",
       "      <td>3.0</td>\n",
       "      <td>1</td>\n",
       "    </tr>\n",
       "    <tr>\n",
       "      <th>...</th>\n",
       "      <td>...</td>\n",
       "      <td>...</td>\n",
       "      <td>...</td>\n",
       "      <td>...</td>\n",
       "      <td>...</td>\n",
       "    </tr>\n",
       "    <tr>\n",
       "      <th>FEC8EB9C054264BC</th>\n",
       "      <td>0.0</td>\n",
       "      <td>NaN</td>\n",
       "      <td>0.0</td>\n",
       "      <td>4.0</td>\n",
       "      <td>1</td>\n",
       "    </tr>\n",
       "    <tr>\n",
       "      <th>FEF5165C8A0DC6BD</th>\n",
       "      <td>0.0</td>\n",
       "      <td>NaN</td>\n",
       "      <td>0.0</td>\n",
       "      <td>3.0</td>\n",
       "      <td>1</td>\n",
       "    </tr>\n",
       "    <tr>\n",
       "      <th>FF2174A1AA0EAD20</th>\n",
       "      <td>0.0</td>\n",
       "      <td>0.0</td>\n",
       "      <td>0.0</td>\n",
       "      <td>1.0</td>\n",
       "      <td>0</td>\n",
       "    </tr>\n",
       "    <tr>\n",
       "      <th>FF4456FBA59116E3</th>\n",
       "      <td>0.0</td>\n",
       "      <td>NaN</td>\n",
       "      <td>0.0</td>\n",
       "      <td>4.0</td>\n",
       "      <td>1</td>\n",
       "    </tr>\n",
       "    <tr>\n",
       "      <th>FF5B24BCE4387F86</th>\n",
       "      <td>0.0</td>\n",
       "      <td>NaN</td>\n",
       "      <td>0.0</td>\n",
       "      <td>3.0</td>\n",
       "      <td>1</td>\n",
       "    </tr>\n",
       "  </tbody>\n",
       "</table>\n",
       "<p>1128 rows × 5 columns</p>\n",
       "</div>"
      ],
      "text/plain": [
       "event_name        login  product_cart  product_page  purchase  missed_steps\n",
       "user_id                                                                    \n",
       "0010A1C096941592    0.0           NaN           0.0       4.0             1\n",
       "005E096DBD379BCF    0.0           NaN           NaN       2.0             2\n",
       "0082295A41A867B5    0.0           0.0           0.0       5.0             0\n",
       "00C1F5175586DFCF    0.0           NaN           0.0       3.0             1\n",
       "01157AAD4401952B    0.0           NaN           0.0       3.0             1\n",
       "...                 ...           ...           ...       ...           ...\n",
       "FEC8EB9C054264BC    0.0           NaN           0.0       4.0             1\n",
       "FEF5165C8A0DC6BD    0.0           NaN           0.0       3.0             1\n",
       "FF2174A1AA0EAD20    0.0           0.0           0.0       1.0             0\n",
       "FF4456FBA59116E3    0.0           NaN           0.0       4.0             1\n",
       "FF5B24BCE4387F86    0.0           NaN           0.0       3.0             1\n",
       "\n",
       "[1128 rows x 5 columns]"
      ]
     },
     "execution_count": 62,
     "metadata": {},
     "output_type": "execute_result"
    }
   ],
   "source": [
    "# Сводные данные формируются методом pivot_table датафрейма data, где индексами (определение сводных данных), будет \n",
    "# 'user_id', колонки будут сформированы из 'event_name', количество событий определяется простым подсчётом значений\n",
    "# в 'details' агрегирующей функцией aggfunc с аргументом 'count'. Полученные данные записываются в number_of_steps:\n",
    "number_of_steps = data.pivot_table(index='user_id', columns='event_name',values='details', aggfunc='count')\n",
    "\n",
    "# Производится подсчет пропущенных событий 'NaN' методом isnul и суммируются методом sum c \n",
    "# аргументом axis=1, после чего полученное значение записывается в колонке missed_steps по каждому пользователю:\n",
    "number_of_steps['missed_steps']=number_of_steps.isnull().sum (axis= 1)\n",
    "\n",
    "# Производится отбор значений purchase не равных нулю с применением логической фильтрации query и логическим обратным \n",
    "# значением isnull(), я этого используется операнд '~'\n",
    "number_of_steps = number_of_steps.query('~purchase.isnull()')\n",
    "\n",
    "# Вывод полученных результатов\n",
    "number_of_steps"
   ]
  },
  {
   "cell_type": "markdown",
   "id": "e86ff7d9",
   "metadata": {},
   "source": [
    "Выведем диаграмму по пропущенным шагам пользователями, которые выполнили любое количество покупок."
   ]
  },
  {
   "cell_type": "code",
   "execution_count": 63,
   "id": "e1d73efd",
   "metadata": {},
   "outputs": [
    {
     "data": {
      "image/png": "[encoded data removed]",
      "text/plain": [
       "<Figure size 1600x800 with 1 Axes>"
      ]
     },
     "metadata": {},
     "output_type": "display_data"
    }
   ],
   "source": [
    "# Используется метод построения диаграмм hist из библиотеки matplotlib с размером figsize=16х8:\n",
    "number_of_steps['missed_steps'].hist(figsize=(16,8))\n",
    "\n",
    "# Подпись диаграммы\n",
    "plt.title('Гистограмма количества пропущенных шагов платежной воронки покупателями')\n",
    "\n",
    "# Подпись оси Х\n",
    "plt.xlabel('Количество пропущенных шагов')\n",
    "\n",
    "# Подпись ости Y\n",
    "plt.ylabel('Количество пользователей')\n",
    "\n",
    "# Вывод гистограммы с заданными параметрами\n",
    "plt.show();"
   ]
  },
  {
   "cell_type": "markdown",
   "id": "f31630a2",
   "metadata": {},
   "source": [
    "Из графика видно, что в большинстве случаев пользователи, которые совершили хотя бы одну и более покупок, пропускают хотя бы один шаг платежной воронки. Иногда, покупатели пропускают и два шага воронки. Это еще раз говорит о том, что в магазине предусмотрена покупка товара минуя любой шаг воронки. Такой подход часто встречается в интернет магазинках. Такими возможностями пользуются постоянные покупатели, которые совершают покупки по заранее созданным шаблонам, спискам избранного товара и пр."
   ]
  },
  {
   "cell_type": "markdown",
   "id": "b11917c5",
   "metadata": {},
   "source": [
    "### Проверка соотношения пользователей распределенных между группами внути изучаемого теста"
   ]
  },
  {
   "cell_type": "code",
   "execution_count": null,
   "id": "fe609a34",
   "metadata": {
    "scrolled": false
   },
   "outputs": [],
   "source": [
    "data_zt = data.pivot_table(index='group', values='user_id', aggfunc='nunique').rename(columns={'user_id':'count_users'})\n",
    "data_zt['part']=round(data_zt['count_users']/data_zt['count_users'].sum(),2)\n",
    "data_zt"
   ]
  },
  {
   "cell_type": "markdown",
   "id": "4d88e809",
   "metadata": {},
   "source": [
    "Из подсчетов видно, что набранные группы не идентичные. Группа А составляет 75%, группа В составляет 25%, от тестируемого набора. Это вполне значимые различия."
   ]
  },
  {
   "cell_type": "markdown",
   "id": "b51a71e4",
   "metadata": {},
   "source": [
    "### Изучение улучшения каждой метрики не менее, чем на 10% за 14 дней"
   ]
  },
  {
   "cell_type": "code",
   "execution_count": null,
   "id": "ec192327",
   "metadata": {
    "scrolled": true
   },
   "outputs": [],
   "source": [
    "conversion = data.pivot_table(index='group', columns='event_name',values='user_id', aggfunc='nunique')\n",
    "conversion= conversion[['login', 'product_page', 'product_cart', 'purchase']]\n",
    "conversion2=pd.DataFrame()\n",
    "conversion2['login_%'] = round((1-(conversion['login']/conversion['login'])),2)*100\n",
    "conversion2['product_page_%'] = round(-(1-(conversion['product_page']/conversion['login'])),2)*100\n",
    "conversion2['product_cart_%'] = round(-(1-(conversion['product_cart']/conversion['product_page'])),2)*100\n",
    "conversion2['purchase_%'] = round(-(1-(conversion['purchase']/conversion['product_cart'])),2)*100\n"
   ]
  },
  {
   "cell_type": "code",
   "execution_count": null,
   "id": "79f298f3",
   "metadata": {},
   "outputs": [],
   "source": [
    "conversion"
   ]
  },
  {
   "cell_type": "code",
   "execution_count": null,
   "id": "b5738ee7",
   "metadata": {},
   "outputs": [],
   "source": [
    "conversion2"
   ]
  },
  {
   "cell_type": "markdown",
   "id": "ae295f29",
   "metadata": {},
   "source": [
    "В таблице введены значения изменения метрик при переходе по платежной воронке в разрезе групп. Из данных видно, падение относительного показателя количества уникальных пользователей к предыдущему этапу воронки, они указаны отрицательными значениями. Положительными значениями указан прирост метрики, так же к предыдущему значению. Первая метрика с нулевым значением соотносится сама к себе, и является стартовой. Поэтому у нее такое значение.\\\n",
    "Однако, нас интересует изменение метрик в сравнении тестируемых групп между собой. \n",
    "- Изменение метрики продуктовой страницы (product_page) между группами составляет 9%. Т.е. в группе В есть прирос данной метрики, по сравнению с группой А.\n",
    "- Разница метрик продуктовой корзины (product_cart) между группами составила 3%. Причем не в пользу группы В. Т.е. в данной метрике отрицательное изменение\n",
    "- Конверсия метрики оплаты (purchase) в группе В снизилась на 1% по отношению группе А.\n",
    "\n",
    "При использовании стороннего калькулятора достоверности А/В-тестирования на сайте:https://mindbox.ru/academy/ab-test-calculator/, были получены следующие результаты:\n",
    "Расчет размера выборки, при заданных параметрах\n",
    "- количество вариантов: 2\n",
    "- средний показатель 50%\n",
    "- ожидаемый абсолютный прирост: 10%\n",
    "- достоверность 95%\n",
    "- мощность 80%\n",
    "Полученные результаты:\n",
    "- размер выборки, всего: 785 чел.\n",
    "- размер каждой группы: 392 чел.\n",
    "\n",
    "Т.о. при проведении тестирования по минимальному значению одной из групп, результаты окажутся достаточно достоверными."
   ]
  },
  {
   "cell_type": "markdown",
   "id": "fbaa85f8",
   "metadata": {},
   "source": [
    "<div class=\"alert alert-success\">\n",
    "    \n",
    "**Комментарий ревьюера**\n",
    "\n",
    "**#ок**\n",
    "\n",
    "Да, все верно. Количество пользователей реально поучаствовавших в тесте намного меньше зарегестрированного количества, но этого количества должно хватить\n",
    "\n",
    "Кажется, что 10% мы не достигли, чуть подробнее посмотрим это в самой проверке гипотез\n",
    "</div>"
   ]
  },
  {
   "cell_type": "markdown",
   "id": "816c7bb9",
   "metadata": {},
   "source": [
    "## Исследовательский анализ данных"
   ]
  },
  {
   "cell_type": "markdown",
   "id": "c77dd8fb",
   "metadata": {},
   "source": [
    "### Количество событий на пользователя одинаково распределены в выборках?"
   ]
  },
  {
   "cell_type": "markdown",
   "id": "36f56971",
   "metadata": {},
   "source": [
    "Для каждого пользователя посчитаем количество событий в разрезе групп А и В"
   ]
  },
  {
   "cell_type": "code",
   "execution_count": null,
   "id": "22493758",
   "metadata": {},
   "outputs": [],
   "source": [
    "count_events = data.pivot_table(index='user_id', columns='group',values='event_name', aggfunc='count').fillna(0)\n",
    "count_events.describe()"
   ]
  },
  {
   "cell_type": "code",
   "execution_count": null,
   "id": "5c490e0b",
   "metadata": {},
   "outputs": [],
   "source": [
    "count_events.boxplot(figsize=(16,8))\n",
    "plt.title('Диаграмма boxplot, распределение значений количества событий на пользователя в группах А и В')\n",
    "plt.xlabel('Группы тестирования')\n",
    "plt.ylabel('Количество событий на пользователя')\n",
    "plt.show();\n"
   ]
  },
  {
   "cell_type": "code",
   "execution_count": null,
   "id": "5c2d7daa",
   "metadata": {},
   "outputs": [],
   "source": [
    "print(f' Распределение 75-ого, 90-ого и 99-ого перцентиля в группе А: {np.percentile(count_events[\"A\"], [75, 90, 99])}')\n",
    "print(f' Распределение 75-ого, 90-ого и 99-ого перцентиля в группе В: {np.percentile(count_events[\"B\"], [75, 90, 99])}')"
   ]
  },
  {
   "cell_type": "markdown",
   "id": "bc51a055",
   "metadata": {},
   "source": [
    "По диаграмме boxplot видно, что распределение значений количества событий на пользователя, имеет различный вид. Если в группе А основное распределение до Q3 происходит в пределах 8 событий на пользователя, то в группе В это только 1 событие.\\\n",
    "В 99 процентах случаев, в группе А приходится 18 событий на пользователя. А в группе В только 12.\\\n",
    "При этих данных, выбросов значений данного показателя в группе А меньше, по сравнению с группой В.\\\n",
    "Очень примечательно выглядит статистика группы В по нулевым значениям в количестве событий. В 50% случаев пользователи не совершали ни каких событий с момента регистрации в течении 14-ти дней. В группе А это значение показателя встречается в 25% случаев. Возможно, данное обстоятельство связано с заблаговременной регистрацией пользователей перед новогодними распродажами.\\\n",
    "Если обратится к среднему показателю количества событий на пользователя, то в группе А приходится 5.203730 действий, а в группе В 1.397418, что составляет весьма существенную разницу.\\\n",
    "Попробуем посмотреть на статистику среднего значения событий на пользователя, для всех посетителей в разрезе групп тестирования."
   ]
  },
  {
   "cell_type": "code",
   "execution_count": null,
   "id": "9843176a",
   "metadata": {
    "scrolled": false
   },
   "outputs": [],
   "source": [
    "print(\"Статистика по группе А:\")\n",
    "print(count_events[count_events[\"A\"] != 0][\"A\"].describe())\n",
    "print()\n",
    "print(\"Статистика по группе B\")\n",
    "print(count_events[count_events[\"B\"] != 0][\"B\"].describe())"
   ]
  },
  {
   "cell_type": "markdown",
   "id": "91ed82ae",
   "metadata": {},
   "source": [
    "В результате статистика поменялась естественным образом. В среднем показатель количества событий на пользователя в группе А стало 6.968300 ед., а в группе В 5.518414 ед.\\\n",
    "При этом, в большинстве случаев Q3 группы А увеличился до 9 событий на пользователя, а группы В резко возрос до 7.75 событий.\\\n",
    "Это говорит о том, что показатели активности пользователей группы В весьма приближены к значениям контрольной группы А."
   ]
  },
  {
   "cell_type": "markdown",
   "id": "ad0064d5",
   "metadata": {},
   "source": [
    "### Как число событий в выборках распределено по дням?"
   ]
  },
  {
   "cell_type": "markdown",
   "id": "6185c41a",
   "metadata": {},
   "source": [
    "Сформируем датасет *data_events* в котором события будут сгруппированы по датам и посчитано их количество в день с распределением по группам тестирования."
   ]
  },
  {
   "cell_type": "code",
   "execution_count": null,
   "id": "787b90b1",
   "metadata": {},
   "outputs": [],
   "source": [
    "data_events = data.pivot_table(index='event_dt', columns='group',values='event_name', aggfunc='count').fillna(0)\n",
    "data_events.T"
   ]
  },
  {
   "cell_type": "code",
   "execution_count": null,
   "id": "a6c41446",
   "metadata": {},
   "outputs": [],
   "source": [
    "fig = go.Figure()\n",
    "fig.add_trace(go.Bar(x=data_events.index, y=data_events['B'], name = 'Группа В'))\n",
    "fig.add_trace(go.Bar(x=data_events.index, y=data_events['A'], name = 'Группа A'))\n",
    "\n",
    "  \n",
    "fig.update_layout(\n",
    "    barmode=\"stack\",\n",
    "    template = \"simple_white\",\n",
    "    title={'text': \"График количества событий в день по группам тестирования\"},\n",
    "        width=1000,\n",
    "    height=500\n",
    ")\n",
    "fig.update_xaxes(title_text=\"Дата\"),\n",
    "fig.update_yaxes(title_text=\"Количество событий\"),\n",
    "fig.show()"
   ]
  },
  {
   "cell_type": "markdown",
   "id": "304bc862",
   "metadata": {},
   "source": [
    "Из диаграммы видно, как распределены события по датам в группах тестирования. Так в группе А, с 2020-12-13 наблюдается существенный рост активности пользователей, и уже с 2020-12-22 рост переходит в снижение.\\\n",
    "Поведение пользователей группы В отличаются. В динамике изменений количества событий в день, не наблюдается такого скачка значений, как в группе А. Здесь, скорее всего общий тренд на снижение активности с локальными всплесками 9, 16, 21 декабря.\\\n",
    "Распределение событий в группе А стримится к равномерному, распределение группы В не равномерно.\n"
   ]
  },
  {
   "cell_type": "markdown",
   "id": "f9bbed99",
   "metadata": {},
   "source": [
    "### Как меняется конверсия в воронке в выборках на разных этапах?"
   ]
  },
  {
   "cell_type": "markdown",
   "id": "e2a879cc",
   "metadata": {},
   "source": [
    "Проверим конверсию по платежной воронке в разрезе групп тестирования. "
   ]
  },
  {
   "cell_type": "markdown",
   "id": "dfc32cf2",
   "metadata": {},
   "source": [
    "Сформируем два среpа данных, для группа А *ab_events_a* и для группы В *ab_events_b*"
   ]
  },
  {
   "cell_type": "code",
   "execution_count": null,
   "id": "8761c48c",
   "metadata": {},
   "outputs": [],
   "source": [
    "ab_events_a"
   ]
  },
  {
   "cell_type": "code",
   "execution_count": null,
   "id": "7596a953",
   "metadata": {},
   "outputs": [],
   "source": [
    "ab_events_a = data.query('group == \"A\"').groupby('event_name').agg({'user_id':'nunique'})\\\n",
    "    .sort_values(by = 'user_id', ascending=False)\\\n",
    "    .reset_index()"
   ]
  },
  {
   "cell_type": "code",
   "execution_count": null,
   "id": "43a9aa39",
   "metadata": {},
   "outputs": [],
   "source": [
    "ab_events_b = data.query('group == \"B\"').groupby('event_name').agg({'user_id':'nunique'})\\\n",
    "    .sort_values(by = 'user_id', ascending=False)\\\n",
    "    .reset_index()"
   ]
  },
  {
   "cell_type": "code",
   "execution_count": null,
   "id": "60236380",
   "metadata": {},
   "outputs": [],
   "source": [
    "fig = go.Figure()\n",
    "\n",
    "fig.add_trace(go.Funnel(\n",
    "   name = 'Group A',\n",
    "   y = ab_events_a['event_name'].sort_values(),\n",
    "   x = ab_events_a['user_id'],\n",
    "   textinfo = \"value+percent initial+percent previous\"))\n",
    "\n",
    "fig.add_trace(go.Funnel(\n",
    "   name = 'Group B',\n",
    "   y = ab_events_b['event_name'].sort_values(),\n",
    "   x = ab_events_b['user_id'],\n",
    "   textinfo = \"value+percent initial+percent previous\"))\n",
    "\n",
    "fig.update_layout(\n",
    "   template = \"simple_white\",\n",
    "   title={'text': \"Конверсия переходов по платежной воронке групп тестирования А и В\"},\n",
    "   width=900,\n",
    "   height=500\n",
    ")\n",
    "fig.show()\n"
   ]
  },
  {
   "cell_type": "markdown",
   "id": "239bc310",
   "metadata": {},
   "source": [
    "Из данной воронки уже видны не только, почти идентичные конверсии в группах А и В между этапами входа, страницы выбора товаров, корзины и оплаты, но также заметны неравномерность распределения пользователей между группами.\\\n",
    "В целом конверсии тестируемых групп идентичны общей платежной воронке."
   ]
  },
  {
   "cell_type": "markdown",
   "id": "fd5f051f",
   "metadata": {},
   "source": [
    "<div class=\"alert alert-success\">\n",
    "    \n",
    "**Комментарий ревьюера**\n",
    "\n",
    "**#ок**\n",
    "\n",
    "В этом разделе все верно рассчитано и отображено\n",
    "</div>"
   ]
  },
  {
   "cell_type": "markdown",
   "id": "995f750e",
   "metadata": {},
   "source": [
    "### Какие особенности данных нужно учесть, прежде чем приступать к A/B-тестированию?"
   ]
  },
  {
   "cell_type": "markdown",
   "id": "ec68f30d",
   "metadata": {},
   "source": [
    "1. Перед началом тестирования необходимо учитывать неравномерность набора пользователей в группы. В результате набора, группа А превышает группу В на 1376 пользователя.\n",
    "2. Распределение событий по дням группы В не равномерно, при этом распределение группы А близко к нормальному.\n",
    "3. Распределение количества событий на пользователя также неравномерно в группе В, в которой присутствуют аномальные выбросы.\n",
    "4. Запуск тестирования параллельно с маркетинговой акцией.\n",
    "5. Влияние предпраздничных распродаж.\n",
    "6. Конверсия по платежной воронке не линейна. Пользователи имею возможность переходить к оплате с любого этапа.\n",
    "\n",
    "Все вышеизложенные особенности могут влиять негативно на результаты тестирования."
   ]
  },
  {
   "cell_type": "markdown",
   "id": "dae876f8",
   "metadata": {},
   "source": [
    "##  Оценка результатов А/В-тестирования"
   ]
  },
  {
   "cell_type": "markdown",
   "id": "01121dab",
   "metadata": {},
   "source": [
    "Для проведения однотипных тестов, создадим функцию"
   ]
  },
  {
   "cell_type": "code",
   "execution_count": null,
   "id": "e6fd27b2",
   "metadata": {},
   "outputs": [],
   "source": [
    "def zt (event1, index1, event2, index2):\n",
    "   # пропорция успехов в первой группе:\n",
    "    p1 = event1/index1\n",
    "   # пропорция успехов во второй группе:\n",
    "    p2 = event2/index2\n",
    "   # пропорция успехов в комбинированном датасете:\n",
    "    p_combined = (event1 + event2) / (index1 + index2)\n",
    "   # разница пропорций в датасетах\n",
    "    difference = p1 - p2\n",
    "   # считаем статистику в ст.отклонениях стандартного нормального распределения\n",
    "    z_value = difference / mth.sqrt(p_combined * (1 - p_combined) * (1/index1 + 1/index2))\n",
    "   # задаем стандартное нормальное распределение (среднее 0, ст.отклонение 1)\n",
    "    distr = st.norm(0, 1)\n",
    "    p_value = (1 - distr.cdf(abs(z_value))) * 2\n",
    "    print('p-значение: ', p_value)\n",
    "    return p_value\n"
   ]
  },
  {
   "cell_type": "markdown",
   "id": "2a872694",
   "metadata": {},
   "source": [
    "Для проведения тендера используем датасет *conversion*, который использовали для измерения конверсий "
   ]
  },
  {
   "cell_type": "code",
   "execution_count": null,
   "id": "9d1befb7",
   "metadata": {
    "scrolled": true
   },
   "outputs": [],
   "source": [
    "conversion"
   ]
  },
  {
   "cell_type": "markdown",
   "id": "ef828402",
   "metadata": {},
   "source": [
    "Для проведения z-теста сформулируем гипотезы:\\\n",
    "Н0 - Доля в контрольной группе A равна доле в тестируемой группе B\\\n",
    "Н1 - Доля в контрольной группе A не равна доле в тестируемой группе B\\\n",
    "Уровень значимости α установим на значении 0.05"
   ]
  },
  {
   "cell_type": "code",
   "execution_count": null,
   "id": "555099ed",
   "metadata": {},
   "outputs": [],
   "source": [
    "test1=zt(conversion.loc['A', 'product_page'], conversion.loc['A', 'login'],\n",
    "         conversion.loc['B', 'product_page'], conversion.loc['B', 'login'])\n",
    "alpha = .05 # критический уровень статистической значимости\n",
    "if test1 < alpha:\n",
    "   print('Отвергаем нулевую гипотезу: между долями есть значимая разница')\n",
    "else:\n",
    "   print(\n",
    "       'Не получилось отвергнуть нулевую гипотезу, нет оснований считать доли разными')  "
   ]
  },
  {
   "cell_type": "markdown",
   "id": "ebd923ec",
   "metadata": {},
   "source": [
    "На самом распространенном событии purchase? после login, доли групп A и B распределении не равномерно и необходимо отвергнуть нулевую гипотезу о равности долей."
   ]
  },
  {
   "cell_type": "code",
   "execution_count": null,
   "id": "749b8631",
   "metadata": {},
   "outputs": [],
   "source": [
    "test2=zt(conversion.loc['A', 'product_cart'], conversion.loc['A', 'login'],\n",
    "         conversion.loc['B', 'product_cart'], conversion.loc['B', 'login'])\n",
    "alpha = .05 # критический уровень статистической значимости\n",
    "if test2 < alpha:\n",
    "   print('Отвергаем нулевую гипотезу: между долями есть значимая разница')\n",
    "else:\n",
    "   print(\n",
    "       'Не получилось отвергнуть нулевую гипотезу, нет оснований считать доли разными')  "
   ]
  },
  {
   "cell_type": "markdown",
   "id": "21717e9b",
   "metadata": {},
   "source": [
    "На событии product_cart, доли групп A и B распределении равномерно и нет основания отвергать нулевую гипотезу о равности долей."
   ]
  },
  {
   "cell_type": "code",
   "execution_count": null,
   "id": "0dadfa47",
   "metadata": {},
   "outputs": [],
   "source": [
    "test3=zt(conversion.loc['A', 'purchase'], conversion.loc['A', 'login'],\n",
    "         conversion.loc['B', 'purchase'], conversion.loc['B', 'login'])\n",
    "alpha = .05 # критический уровень статистической значимости\n",
    "if test3 < alpha:\n",
    "   print('Отвергаем нулевую гипотезу: между долями есть значимая разница')\n",
    "else:\n",
    "   print(\n",
    "       'Не получилось отвергнуть нулевую гипотезу, нет оснований считать доли разными')  "
   ]
  },
  {
   "cell_type": "markdown",
   "id": "8d0e45ff",
   "metadata": {},
   "source": [
    "На событии purchase, доли групп A и B распределении равномерно и нет основания отвергать нулевую гипотезу о равности долей."
   ]
  },
  {
   "cell_type": "markdown",
   "id": "5347498c",
   "metadata": {},
   "source": [
    "<div class=\"alert alert-success\">\n",
    "    \n",
    "**Комментарий ревьюера**\n",
    "\n",
    "**#ок**\n",
    "\n",
    "В целом гипотезы технически проверены правильно\n",
    "</div>"
   ]
  },
  {
   "cell_type": "markdown",
   "id": "3c642fca",
   "metadata": {},
   "source": [
    "<div class=\"alert alert-danger\">\n",
    "    \n",
    "**Комментарий ревьюера**\n",
    "\n",
    "**#ошибка**\n",
    "\n",
    "Но нужно учесть, что мы проверяем несколько гипотез одновременно и нужно сделать на это поправку\n",
    "</div>"
   ]
  },
  {
   "cell_type": "markdown",
   "id": "a72a8036",
   "metadata": {},
   "source": [
    "<div class=\"alert alert-info\"> <b>Коментарий студента:</b>\n",
    "Провел проверку Бонферрони \n",
    "</div>"
   ]
  },
  {
   "cell_type": "markdown",
   "id": "b5ac51d3",
   "metadata": {},
   "source": [
    "<div class=\"alert alert-success\">\n",
    "    \n",
    "**Комментарий ревьюера - 2**\n",
    "\n",
    "**#ок**\n",
    "\n",
    "Да, верно\n",
    "</div>"
   ]
  },
  {
   "cell_type": "markdown",
   "id": "fad90954",
   "metadata": {},
   "source": [
    "Проверим гипотезу о равенстве среднего количества пользователей в каждой паре групп тестирования."
   ]
  },
  {
   "cell_type": "code",
   "execution_count": null,
   "id": "32ab91b8",
   "metadata": {},
   "outputs": [],
   "source": [
    "ab_group_a = conversion.T['A']\n",
    "ab_group_b = conversion.T['B']"
   ]
  },
  {
   "cell_type": "code",
   "execution_count": null,
   "id": "a5a8062c",
   "metadata": {},
   "outputs": [],
   "source": [
    "alpha = 0.05  # критический уровень статистической значимости\n",
    "\n",
    "results_AB = st.ttest_ind(ab_group_a, ab_group_b)\n",
    "\n",
    "bonferroni_alpha = alpha / 2  # произведено три сравнения\n",
    "\n",
    "print('p-значение для сравнения групп А и B: ', results_AB.pvalue)\n",
    "\n",
    "\n",
    "if results_AB.pvalue < bonferroni_alpha:\n",
    "    print('Отвергаем нулевую гипотезу для сравнения групп А и B')\n",
    "else:\n",
    "    print(\n",
    "        'Не получилось отвергнуть нулевую гипотезу для сравнения групп А и B'\n",
    "    )"
   ]
  },
  {
   "cell_type": "markdown",
   "id": "9aa60198",
   "metadata": {},
   "source": [
    "Наблюдаемые данные не подтверждают наличие разницы числа пользователей между группами. Т.о. корректировка уровня значимости не требуется. И нет основания считать тесты ложно положительными."
   ]
  },
  {
   "cell_type": "markdown",
   "id": "184c66a8",
   "metadata": {},
   "source": [
    "<div class=\"alert alert-danger\">\n",
    "    \n",
    "**Комментарий ревьюера**\n",
    "\n",
    "**#ошибка**\n",
    "\n",
    "Также куда-то пропали итоговые выводы\n",
    "\n",
    "</div>"
   ]
  },
  {
   "cell_type": "markdown",
   "id": "8750900b",
   "metadata": {},
   "source": [
    "<div class=\"alert alert-info\"> <b>Коментарий студента:</b>\n",
    "Исправлено.\n",
    "\n",
    "Странно, но выводы писал... куда они пропали, я не понял...\n",
    "</div>"
   ]
  },
  {
   "cell_type": "markdown",
   "id": "3ec22ec3",
   "metadata": {},
   "source": [
    "## Выводы"
   ]
  },
  {
   "cell_type": "markdown",
   "id": "9a170dbc",
   "metadata": {},
   "source": [
    "В результате проведенной работы были выполнены действия по предобработке полученных данных. А в частности все временные значения были приведены к соответствующему типу данных, проведена работа по обнаружению, пропусков и принятия решения о том, что замена на какие-либо значения не требуется. Проведена работа по поиску явных дубликатов.\\\n",
    "На следующем этапе проведена оценка корректности проведения теста, а также сопоставление данных ТЗ, в результате чего были отброшены ненужные данные, т.к. они могли повлиять на результаты тестирования.\\\n",
    "На этапе исследовательского анализа, проведены изыскания, на предмет однородности распределения выборок в тестируемой и контрольной  группах. Что позволили понять о том, что на очищенных данных, статистические значения выборок весьма приближены друг к другу. Далее проведено исследование на предмет распределения выборок событий по дням в тестируемой и контрольной группах, и сделан вывод о том, что распределение событий в группе А стремится к равномерному, распределение группы В не равномерно.\\\n",
    "На этом же этапе проведено исследование конверсии в воронке в выборках на разных этапах по выбранным когортам. По построенной воронке были сделаны выводы о потерях в конверсиях, на разных ее этапах в группах. А также обнаружены различия в количестве набранных покупателей в группах.\\\n",
    "На завершающем этапе исследовательского анализа выделены особенности данных нужно учесть, прежде чем приступать к A/B-тестированию.\n",
    "В финале работы было проведено А/В тестирование и сравнены результаты тестов по этапам конверсии воронки. Также проведена проверка Бонферрони, на предмет корректности выбора уровня значимости.\\\n",
    "В результате проведенной работы необходимо отметить, что проведенных А/В тест не отвечает требованиям  ТЗ по выбранному периоду проведения тестирования. Так предновогодние распродажи и общий подъем спроса может влиять на активность покупателей совершать покупки. Наложенная маркетинговая акция на тот же период, что и тест, также может влиять на поведение покупателей. Выборки в тестируемую и контрольную группу были осуществлены неравномерно. А также не удалось набрать таргета по количеству пользователей из определенного региона. Хоть это и позволило провести тест, но он прошел на нижней границе возможного тестирования. Также необходимо отметить отсутствие данных за период с 2020-12-30 по 2021-01-04, что не позволило части набранных покупателей в группы, дожить до конечного лайфтайма.\\\n",
    "По анализу конверсий в воронке не выявлен ожидаемый прирост в группе В по отношению к группе А, что не соответствует основной цели внедрения разработки.\\\n",
    "В завершении работы проведено А/В-тестирование по этапам платежной воронки в тестируемой и контрольных группах. По результатам положительных различий в статистиках не обнаружено.\\\n",
    "Рекомендуется провести повторное тестирование в более подходящий период и выполнить на боле качественном наборе данных и заранее предусмотреть синхронизацию проведения теста без влияния маркетинговой акции.\n"
   ]
  },
  {
   "cell_type": "markdown",
   "id": "efd1c051",
   "metadata": {},
   "source": [
    "<div class=\"alert alert-success\">\n",
    "    \n",
    "**Комментарий ревьюера - 2**\n",
    "\n",
    "**#ок**\n",
    "\n",
    "+\n",
    "\n",
    "</div>"
   ]
  },
  {
   "cell_type": "markdown",
   "id": "27526dd7",
   "metadata": {},
   "source": [
    "<div class=\"alert alert-success\">\n",
    "    \n",
    "**Комментарий ревьюера**\n",
    "\n",
    "**#ок**\n",
    "\n",
    "Ты отлично поработал над проектом, технически тему с проверкой гипотез ты хорошо освоил, это важно. Поправь, пожалуйста, по замечания, чтобы я могла принять проект.\n",
    "\n",
    "Привожу ссылки на статьи по А/В-тестам. Надеюсь, будет интересно) \n",
    "    \n",
    "https://emailsoldiers.ru/blog/12-rules-for-ab-testing\n",
    "    \n",
    "https://ppc.world/articles/ab-testirovanie-v-yandeksdirekte-kak-provesti-i-gde-brat-idei/\n",
    "    \n",
    "https://in-scale.ru/blog/chto-takoe-ab-testirovanie-i-kak-ego-provesti/\n",
    "\n",
    "</div>"
   ]
  },
  {
   "cell_type": "code",
   "execution_count": null,
   "id": "2532d9d3",
   "metadata": {},
   "outputs": [],
   "source": []
  }
 ],
 "metadata": {
  "ExecuteTimeLog": [
   {
    "duration": 3,
    "start_time": "2023-05-06T16:37:20.564Z"
   },
   {
    "duration": 1747,
    "start_time": "2023-05-06T16:37:20.568Z"
   },
   {
    "duration": 2294,
    "start_time": "2023-05-06T16:37:22.317Z"
   },
   {
    "duration": 20,
    "start_time": "2023-05-06T16:37:24.613Z"
   },
   {
    "duration": 147,
    "start_time": "2023-05-06T16:37:24.641Z"
   },
   {
    "duration": 10,
    "start_time": "2023-05-06T16:37:24.791Z"
   },
   {
    "duration": 16,
    "start_time": "2023-05-06T16:37:24.803Z"
   },
   {
    "duration": 76,
    "start_time": "2023-05-06T16:37:24.821Z"
   },
   {
    "duration": 61,
    "start_time": "2023-05-06T16:37:24.899Z"
   },
   {
    "duration": 39,
    "start_time": "2023-05-06T16:37:24.964Z"
   },
   {
    "duration": 16,
    "start_time": "2023-05-06T16:37:25.006Z"
   },
   {
    "duration": 184,
    "start_time": "2023-05-06T16:37:25.023Z"
   },
   {
    "duration": 87,
    "start_time": "2023-05-06T16:37:25.208Z"
   },
   {
    "duration": 5,
    "start_time": "2023-05-06T16:37:25.297Z"
   },
   {
    "duration": 214,
    "start_time": "2023-05-06T16:37:25.304Z"
   },
   {
    "duration": 46,
    "start_time": "2023-05-06T16:37:25.520Z"
   },
   {
    "duration": 108,
    "start_time": "2023-05-06T16:37:25.568Z"
   },
   {
    "duration": 15,
    "start_time": "2023-05-06T16:37:25.677Z"
   },
   {
    "duration": 12,
    "start_time": "2023-05-06T16:37:25.694Z"
   },
   {
    "duration": 267,
    "start_time": "2023-05-06T16:37:25.707Z"
   },
   {
    "duration": 38,
    "start_time": "2023-05-06T16:37:25.977Z"
   },
   {
    "duration": 33,
    "start_time": "2023-05-06T16:37:26.016Z"
   },
   {
    "duration": 30,
    "start_time": "2023-05-06T16:37:26.050Z"
   },
   {
    "duration": 18,
    "start_time": "2023-05-06T16:37:26.082Z"
   },
   {
    "duration": 3,
    "start_time": "2023-05-06T16:37:26.102Z"
   },
   {
    "duration": 14,
    "start_time": "2023-05-06T16:37:26.107Z"
   },
   {
    "duration": 73,
    "start_time": "2023-05-06T16:37:26.123Z"
   },
   {
    "duration": 11,
    "start_time": "2023-05-06T16:37:26.198Z"
   },
   {
    "duration": 13,
    "start_time": "2023-05-06T16:37:26.214Z"
   },
   {
    "duration": 42,
    "start_time": "2023-05-06T16:37:26.230Z"
   },
   {
    "duration": 28,
    "start_time": "2023-05-06T16:37:26.275Z"
   },
   {
    "duration": 11,
    "start_time": "2023-05-06T16:37:26.304Z"
   },
   {
    "duration": 26,
    "start_time": "2023-05-06T16:37:26.316Z"
   },
   {
    "duration": 29,
    "start_time": "2023-05-06T16:37:26.352Z"
   },
   {
    "duration": 14,
    "start_time": "2023-05-06T16:37:26.383Z"
   },
   {
    "duration": 14,
    "start_time": "2023-05-06T16:37:26.398Z"
   },
   {
    "duration": 13,
    "start_time": "2023-05-06T16:37:26.414Z"
   },
   {
    "duration": 48,
    "start_time": "2023-05-06T16:37:26.429Z"
   },
   {
    "duration": 12,
    "start_time": "2023-05-06T16:37:26.478Z"
   },
   {
    "duration": 12,
    "start_time": "2023-05-06T16:37:26.492Z"
   },
   {
    "duration": 9,
    "start_time": "2023-05-06T16:37:26.505Z"
   },
   {
    "duration": 209,
    "start_time": "2023-05-06T16:37:26.516Z"
   },
   {
    "duration": 194,
    "start_time": "2023-05-06T16:37:26.727Z"
   },
   {
    "duration": 29,
    "start_time": "2023-05-06T16:37:26.923Z"
   },
   {
    "duration": 47,
    "start_time": "2023-05-06T16:37:26.953Z"
   },
   {
    "duration": 709,
    "start_time": "2023-05-06T16:37:27.002Z"
   },
   {
    "duration": 162,
    "start_time": "2023-05-06T16:37:27.712Z"
   },
   {
    "duration": 27,
    "start_time": "2023-05-06T16:37:27.877Z"
   },
   {
    "duration": 65,
    "start_time": "2023-05-06T16:37:27.906Z"
   },
   {
    "duration": 36,
    "start_time": "2023-05-06T16:37:27.972Z"
   },
   {
    "duration": 23,
    "start_time": "2023-05-06T16:37:28.009Z"
   },
   {
    "duration": 76,
    "start_time": "2023-05-06T16:37:28.034Z"
   },
   {
    "duration": 223,
    "start_time": "2023-05-06T16:37:28.111Z"
   },
   {
    "duration": 10,
    "start_time": "2023-05-06T16:37:28.352Z"
   },
   {
    "duration": 52,
    "start_time": "2023-05-06T16:37:28.364Z"
   },
   {
    "duration": 37,
    "start_time": "2023-05-06T16:37:28.418Z"
   },
   {
    "duration": 49,
    "start_time": "2023-05-06T16:37:28.461Z"
   },
   {
    "duration": 205,
    "start_time": "2023-05-06T16:37:28.511Z"
   },
   {
    "duration": 29,
    "start_time": "2023-05-06T16:37:28.718Z"
   },
   {
    "duration": 31,
    "start_time": "2023-05-06T16:37:28.749Z"
   },
   {
    "duration": 34,
    "start_time": "2023-05-06T16:37:28.781Z"
   },
   {
    "duration": 4,
    "start_time": "2023-05-06T16:37:28.817Z"
   },
   {
    "duration": 23,
    "start_time": "2023-05-06T16:37:28.823Z"
   },
   {
    "duration": 41,
    "start_time": "2023-05-06T16:37:28.847Z"
   },
   {
    "duration": 10,
    "start_time": "2023-05-06T16:37:28.890Z"
   },
   {
    "duration": 23,
    "start_time": "2023-05-06T16:37:28.901Z"
   },
   {
    "duration": 4,
    "start_time": "2023-05-07T05:58:40.848Z"
   },
   {
    "duration": 1606,
    "start_time": "2023-05-07T05:58:40.858Z"
   },
   {
    "duration": 2458,
    "start_time": "2023-05-07T05:58:42.466Z"
   },
   {
    "duration": 28,
    "start_time": "2023-05-07T05:58:44.927Z"
   },
   {
    "duration": 92,
    "start_time": "2023-05-07T05:58:44.959Z"
   },
   {
    "duration": 12,
    "start_time": "2023-05-07T05:58:45.062Z"
   },
   {
    "duration": 18,
    "start_time": "2023-05-07T05:58:45.076Z"
   },
   {
    "duration": 20,
    "start_time": "2023-05-07T05:58:45.097Z"
   },
   {
    "duration": 41,
    "start_time": "2023-05-07T05:58:45.119Z"
   },
   {
    "duration": 27,
    "start_time": "2023-05-07T05:58:45.162Z"
   },
   {
    "duration": 24,
    "start_time": "2023-05-07T05:58:45.190Z"
   },
   {
    "duration": 151,
    "start_time": "2023-05-07T05:58:45.226Z"
   },
   {
    "duration": 80,
    "start_time": "2023-05-07T05:58:45.379Z"
   },
   {
    "duration": 5,
    "start_time": "2023-05-07T05:58:45.461Z"
   },
   {
    "duration": 189,
    "start_time": "2023-05-07T05:58:45.469Z"
   },
   {
    "duration": 28,
    "start_time": "2023-05-07T05:58:45.660Z"
   },
   {
    "duration": 74,
    "start_time": "2023-05-07T05:58:45.689Z"
   },
   {
    "duration": 30,
    "start_time": "2023-05-07T05:58:45.767Z"
   },
   {
    "duration": 29,
    "start_time": "2023-05-07T05:58:45.800Z"
   },
   {
    "duration": 335,
    "start_time": "2023-05-07T05:58:45.832Z"
   },
   {
    "duration": 43,
    "start_time": "2023-05-07T05:58:46.169Z"
   },
   {
    "duration": 29,
    "start_time": "2023-05-07T05:58:46.215Z"
   },
   {
    "duration": 16,
    "start_time": "2023-05-07T05:58:46.249Z"
   },
   {
    "duration": 29,
    "start_time": "2023-05-07T05:58:46.268Z"
   },
   {
    "duration": 5,
    "start_time": "2023-05-07T05:58:46.298Z"
   },
   {
    "duration": 23,
    "start_time": "2023-05-07T05:58:46.305Z"
   },
   {
    "duration": 34,
    "start_time": "2023-05-07T05:58:46.349Z"
   },
   {
    "duration": 12,
    "start_time": "2023-05-07T05:58:46.384Z"
   },
   {
    "duration": 9,
    "start_time": "2023-05-07T05:58:46.397Z"
   },
   {
    "duration": 14,
    "start_time": "2023-05-07T05:58:46.408Z"
   },
   {
    "duration": 44,
    "start_time": "2023-05-07T05:58:46.424Z"
   },
   {
    "duration": 16,
    "start_time": "2023-05-07T05:58:46.471Z"
   },
   {
    "duration": 29,
    "start_time": "2023-05-07T05:58:46.490Z"
   },
   {
    "duration": 34,
    "start_time": "2023-05-07T05:58:46.521Z"
   },
   {
    "duration": 26,
    "start_time": "2023-05-07T05:58:46.562Z"
   },
   {
    "duration": 38,
    "start_time": "2023-05-07T05:58:46.590Z"
   },
   {
    "duration": 29,
    "start_time": "2023-05-07T05:58:46.630Z"
   },
   {
    "duration": 21,
    "start_time": "2023-05-07T05:58:46.662Z"
   },
   {
    "duration": 25,
    "start_time": "2023-05-07T05:58:46.685Z"
   },
   {
    "duration": 19,
    "start_time": "2023-05-07T05:58:46.712Z"
   },
   {
    "duration": 36,
    "start_time": "2023-05-07T05:58:46.746Z"
   },
   {
    "duration": 277,
    "start_time": "2023-05-07T05:58:46.787Z"
   },
   {
    "duration": 255,
    "start_time": "2023-05-07T05:58:47.066Z"
   },
   {
    "duration": 38,
    "start_time": "2023-05-07T05:58:47.323Z"
   },
   {
    "duration": 59,
    "start_time": "2023-05-07T05:58:47.363Z"
   },
   {
    "duration": 344,
    "start_time": "2023-05-07T05:58:47.424Z"
   },
   {
    "duration": 228,
    "start_time": "2023-05-07T05:58:47.770Z"
   },
   {
    "duration": 23,
    "start_time": "2023-05-07T05:58:48.000Z"
   },
   {
    "duration": 43,
    "start_time": "2023-05-07T05:58:48.041Z"
   },
   {
    "duration": 9,
    "start_time": "2023-05-07T05:58:48.087Z"
   },
   {
    "duration": 13,
    "start_time": "2023-05-07T05:58:48.098Z"
   },
   {
    "duration": 63,
    "start_time": "2023-05-07T05:58:48.113Z"
   },
   {
    "duration": 224,
    "start_time": "2023-05-07T05:58:48.178Z"
   },
   {
    "duration": 5,
    "start_time": "2023-05-07T05:58:48.404Z"
   },
   {
    "duration": 37,
    "start_time": "2023-05-07T05:58:48.411Z"
   },
   {
    "duration": 24,
    "start_time": "2023-05-07T05:58:48.449Z"
   },
   {
    "duration": 30,
    "start_time": "2023-05-07T05:58:48.475Z"
   },
   {
    "duration": 230,
    "start_time": "2023-05-07T05:58:48.507Z"
   },
   {
    "duration": 25,
    "start_time": "2023-05-07T05:58:48.739Z"
   },
   {
    "duration": 11,
    "start_time": "2023-05-07T05:58:48.766Z"
   },
   {
    "duration": 30,
    "start_time": "2023-05-07T05:58:48.779Z"
   },
   {
    "duration": 4,
    "start_time": "2023-05-07T05:58:48.811Z"
   },
   {
    "duration": 41,
    "start_time": "2023-05-07T05:58:48.817Z"
   },
   {
    "duration": 10,
    "start_time": "2023-05-07T05:58:48.859Z"
   },
   {
    "duration": 11,
    "start_time": "2023-05-07T05:58:48.870Z"
   },
   {
    "duration": 12,
    "start_time": "2023-05-07T05:58:48.883Z"
   },
   {
    "duration": 12,
    "start_time": "2023-05-07T06:39:35.027Z"
   },
   {
    "duration": 10,
    "start_time": "2023-05-07T06:49:41.204Z"
   },
   {
    "duration": 27,
    "start_time": "2023-05-07T06:49:48.377Z"
   },
   {
    "duration": 17,
    "start_time": "2023-05-07T06:49:52.069Z"
   },
   {
    "duration": 12,
    "start_time": "2023-05-07T07:10:48.810Z"
   },
   {
    "duration": 14,
    "start_time": "2023-05-07T07:14:57.752Z"
   },
   {
    "duration": 25,
    "start_time": "2023-05-07T07:15:04.636Z"
   },
   {
    "duration": 23,
    "start_time": "2023-05-07T07:15:10.137Z"
   },
   {
    "duration": 27,
    "start_time": "2023-05-07T08:20:07.706Z"
   },
   {
    "duration": 18,
    "start_time": "2023-05-07T08:20:53.248Z"
   },
   {
    "duration": 34,
    "start_time": "2023-05-07T08:36:03.268Z"
   },
   {
    "duration": 13,
    "start_time": "2023-05-07T08:36:57.206Z"
   },
   {
    "duration": 5,
    "start_time": "2023-05-07T08:37:39.692Z"
   },
   {
    "duration": 19,
    "start_time": "2023-05-07T08:57:00.787Z"
   },
   {
    "duration": 368,
    "start_time": "2023-05-07T08:58:04.235Z"
   },
   {
    "duration": 12,
    "start_time": "2023-05-07T08:58:21.610Z"
   },
   {
    "duration": 13,
    "start_time": "2023-05-07T08:59:24.944Z"
   },
   {
    "duration": 12,
    "start_time": "2023-05-07T09:01:39.110Z"
   },
   {
    "duration": 9,
    "start_time": "2023-05-07T09:02:11.994Z"
   },
   {
    "duration": 347,
    "start_time": "2023-05-07T09:07:45.419Z"
   },
   {
    "duration": 9,
    "start_time": "2023-05-07T09:13:58.103Z"
   },
   {
    "duration": 17,
    "start_time": "2023-05-07T09:15:15.928Z"
   },
   {
    "duration": 12,
    "start_time": "2023-05-07T09:15:23.784Z"
   },
   {
    "duration": 10,
    "start_time": "2023-05-07T09:15:26.865Z"
   },
   {
    "duration": 14,
    "start_time": "2023-05-07T09:15:33.574Z"
   },
   {
    "duration": 28,
    "start_time": "2023-05-07T09:29:30.600Z"
   },
   {
    "duration": 33,
    "start_time": "2023-05-07T09:31:45.080Z"
   },
   {
    "duration": 35,
    "start_time": "2023-05-07T09:34:00.731Z"
   },
   {
    "duration": 43,
    "start_time": "2023-05-07T09:34:06.591Z"
   },
   {
    "duration": 17,
    "start_time": "2023-05-07T09:38:05.581Z"
   },
   {
    "duration": 7,
    "start_time": "2023-05-07T09:40:20.491Z"
   },
   {
    "duration": 21,
    "start_time": "2023-05-07T09:40:25.201Z"
   },
   {
    "duration": 30,
    "start_time": "2023-05-07T09:40:39.243Z"
   },
   {
    "duration": 25,
    "start_time": "2023-05-07T09:40:49.060Z"
   },
   {
    "duration": 40,
    "start_time": "2023-05-07T09:40:59.521Z"
   },
   {
    "duration": 23,
    "start_time": "2023-05-07T09:42:20.572Z"
   },
   {
    "duration": 37,
    "start_time": "2023-05-07T09:44:52.560Z"
   },
   {
    "duration": 36,
    "start_time": "2023-05-07T09:45:08.081Z"
   },
   {
    "duration": 37,
    "start_time": "2023-05-07T09:45:24.691Z"
   },
   {
    "duration": 34,
    "start_time": "2023-05-07T09:45:38.740Z"
   },
   {
    "duration": 184,
    "start_time": "2023-05-07T09:47:20.250Z"
   },
   {
    "duration": 35,
    "start_time": "2023-05-07T09:47:29.080Z"
   },
   {
    "duration": 37,
    "start_time": "2023-05-07T09:48:11.083Z"
   },
   {
    "duration": 34,
    "start_time": "2023-05-07T09:48:23.324Z"
   },
   {
    "duration": 35,
    "start_time": "2023-05-07T09:49:27.261Z"
   },
   {
    "duration": 37,
    "start_time": "2023-05-07T09:50:15.293Z"
   },
   {
    "duration": 45,
    "start_time": "2023-05-07T09:52:10.162Z"
   },
   {
    "duration": 37,
    "start_time": "2023-05-07T09:54:35.601Z"
   },
   {
    "duration": 244,
    "start_time": "2023-05-07T09:59:09.170Z"
   },
   {
    "duration": 221,
    "start_time": "2023-05-07T10:04:36.011Z"
   },
   {
    "duration": 37,
    "start_time": "2023-05-07T10:07:00.820Z"
   },
   {
    "duration": 33,
    "start_time": "2023-05-07T10:07:09.756Z"
   },
   {
    "duration": 215,
    "start_time": "2023-05-07T10:07:15.390Z"
   },
   {
    "duration": 5,
    "start_time": "2023-05-07T10:11:42.320Z"
   },
   {
    "duration": 35,
    "start_time": "2023-05-07T10:11:47.780Z"
   },
   {
    "duration": 35,
    "start_time": "2023-05-07T10:12:08.220Z"
   },
   {
    "duration": 36,
    "start_time": "2023-05-07T10:12:20.228Z"
   },
   {
    "duration": 39,
    "start_time": "2023-05-07T10:14:58.791Z"
   },
   {
    "duration": 38,
    "start_time": "2023-05-07T10:15:13.559Z"
   },
   {
    "duration": 199,
    "start_time": "2023-05-07T10:15:21.711Z"
   },
   {
    "duration": 202,
    "start_time": "2023-05-07T10:17:29.010Z"
   },
   {
    "duration": 97,
    "start_time": "2023-05-07T10:23:00.308Z"
   },
   {
    "duration": 12,
    "start_time": "2023-05-07T10:37:41.089Z"
   },
   {
    "duration": 7,
    "start_time": "2023-05-07T10:39:26.901Z"
   },
   {
    "duration": 19,
    "start_time": "2023-05-07T10:42:08.870Z"
   },
   {
    "duration": 12,
    "start_time": "2023-05-07T10:45:20.371Z"
   },
   {
    "duration": 20,
    "start_time": "2023-05-07T10:45:38.800Z"
   },
   {
    "duration": 18,
    "start_time": "2023-05-07T10:51:33.022Z"
   },
   {
    "duration": 186,
    "start_time": "2023-05-07T10:51:40.891Z"
   },
   {
    "duration": 135,
    "start_time": "2023-05-07T10:53:40.231Z"
   },
   {
    "duration": 4,
    "start_time": "2023-05-07T10:54:01.895Z"
   },
   {
    "duration": 1436,
    "start_time": "2023-05-07T10:54:01.915Z"
   },
   {
    "duration": 791,
    "start_time": "2023-05-07T10:54:03.353Z"
   },
   {
    "duration": 17,
    "start_time": "2023-05-07T10:54:04.146Z"
   },
   {
    "duration": 115,
    "start_time": "2023-05-07T10:54:04.165Z"
   },
   {
    "duration": 10,
    "start_time": "2023-05-07T10:54:04.283Z"
   },
   {
    "duration": 24,
    "start_time": "2023-05-07T10:54:04.294Z"
   },
   {
    "duration": 24,
    "start_time": "2023-05-07T10:54:04.320Z"
   },
   {
    "duration": 48,
    "start_time": "2023-05-07T10:54:04.346Z"
   },
   {
    "duration": 23,
    "start_time": "2023-05-07T10:54:04.397Z"
   },
   {
    "duration": 17,
    "start_time": "2023-05-07T10:54:04.422Z"
   },
   {
    "duration": 130,
    "start_time": "2023-05-07T10:54:04.442Z"
   },
   {
    "duration": 79,
    "start_time": "2023-05-07T10:54:04.575Z"
   },
   {
    "duration": 5,
    "start_time": "2023-05-07T10:54:04.656Z"
   },
   {
    "duration": 189,
    "start_time": "2023-05-07T10:54:04.665Z"
   },
   {
    "duration": 29,
    "start_time": "2023-05-07T10:54:04.856Z"
   },
   {
    "duration": 110,
    "start_time": "2023-05-07T10:54:04.887Z"
   },
   {
    "duration": 19,
    "start_time": "2023-05-07T10:54:04.999Z"
   },
   {
    "duration": 24,
    "start_time": "2023-05-07T10:54:05.020Z"
   },
   {
    "duration": 249,
    "start_time": "2023-05-07T10:54:05.046Z"
   },
   {
    "duration": 48,
    "start_time": "2023-05-07T10:54:05.297Z"
   },
   {
    "duration": 10,
    "start_time": "2023-05-07T10:54:05.347Z"
   },
   {
    "duration": 25,
    "start_time": "2023-05-07T10:54:05.359Z"
   },
   {
    "duration": 36,
    "start_time": "2023-05-07T10:54:05.386Z"
   },
   {
    "duration": 7,
    "start_time": "2023-05-07T10:54:05.424Z"
   },
   {
    "duration": 31,
    "start_time": "2023-05-07T10:54:05.433Z"
   },
   {
    "duration": 42,
    "start_time": "2023-05-07T10:54:05.465Z"
   },
   {
    "duration": 12,
    "start_time": "2023-05-07T10:54:05.508Z"
   },
   {
    "duration": 21,
    "start_time": "2023-05-07T10:54:05.522Z"
   },
   {
    "duration": 16,
    "start_time": "2023-05-07T10:54:05.545Z"
   },
   {
    "duration": 48,
    "start_time": "2023-05-07T10:54:05.562Z"
   },
   {
    "duration": 22,
    "start_time": "2023-05-07T10:54:05.613Z"
   },
   {
    "duration": 41,
    "start_time": "2023-05-07T10:54:05.636Z"
   },
   {
    "duration": 11,
    "start_time": "2023-05-07T10:54:05.679Z"
   },
   {
    "duration": 17,
    "start_time": "2023-05-07T10:54:05.692Z"
   },
   {
    "duration": 15,
    "start_time": "2023-05-07T10:54:05.711Z"
   },
   {
    "duration": 15,
    "start_time": "2023-05-07T10:54:05.727Z"
   },
   {
    "duration": 14,
    "start_time": "2023-05-07T10:54:05.744Z"
   },
   {
    "duration": 31,
    "start_time": "2023-05-07T10:54:05.759Z"
   },
   {
    "duration": 17,
    "start_time": "2023-05-07T10:54:05.791Z"
   },
   {
    "duration": 14,
    "start_time": "2023-05-07T10:54:05.809Z"
   },
   {
    "duration": 18,
    "start_time": "2023-05-07T10:54:05.845Z"
   },
   {
    "duration": 12,
    "start_time": "2023-05-07T10:54:05.865Z"
   },
   {
    "duration": 332,
    "start_time": "2023-05-07T10:54:05.880Z"
   },
   {
    "duration": 251,
    "start_time": "2023-05-07T10:54:06.214Z"
   },
   {
    "duration": 21,
    "start_time": "2023-05-07T10:54:06.467Z"
   },
   {
    "duration": 77,
    "start_time": "2023-05-07T10:54:06.490Z"
   },
   {
    "duration": 130,
    "start_time": "2023-05-07T10:54:06.569Z"
   },
   {
    "duration": 0,
    "start_time": "2023-05-07T10:54:06.701Z"
   },
   {
    "duration": 0,
    "start_time": "2023-05-07T10:54:06.703Z"
   },
   {
    "duration": 0,
    "start_time": "2023-05-07T10:54:06.704Z"
   },
   {
    "duration": 0,
    "start_time": "2023-05-07T10:54:06.706Z"
   },
   {
    "duration": 0,
    "start_time": "2023-05-07T10:54:06.707Z"
   },
   {
    "duration": 0,
    "start_time": "2023-05-07T10:54:06.709Z"
   },
   {
    "duration": 0,
    "start_time": "2023-05-07T10:54:06.710Z"
   },
   {
    "duration": 0,
    "start_time": "2023-05-07T10:54:06.711Z"
   },
   {
    "duration": 0,
    "start_time": "2023-05-07T10:54:06.713Z"
   },
   {
    "duration": 0,
    "start_time": "2023-05-07T10:54:06.741Z"
   },
   {
    "duration": 0,
    "start_time": "2023-05-07T10:54:06.743Z"
   },
   {
    "duration": 0,
    "start_time": "2023-05-07T10:54:06.744Z"
   },
   {
    "duration": 0,
    "start_time": "2023-05-07T10:54:06.745Z"
   },
   {
    "duration": 0,
    "start_time": "2023-05-07T10:54:06.747Z"
   },
   {
    "duration": 0,
    "start_time": "2023-05-07T10:54:06.750Z"
   },
   {
    "duration": 0,
    "start_time": "2023-05-07T10:54:06.752Z"
   },
   {
    "duration": 0,
    "start_time": "2023-05-07T10:54:06.753Z"
   },
   {
    "duration": 0,
    "start_time": "2023-05-07T10:54:06.754Z"
   },
   {
    "duration": 0,
    "start_time": "2023-05-07T10:54:06.755Z"
   },
   {
    "duration": 0,
    "start_time": "2023-05-07T10:54:06.756Z"
   },
   {
    "duration": 0,
    "start_time": "2023-05-07T10:54:06.758Z"
   },
   {
    "duration": 0,
    "start_time": "2023-05-07T10:54:06.760Z"
   },
   {
    "duration": 0,
    "start_time": "2023-05-07T10:54:06.762Z"
   },
   {
    "duration": 125,
    "start_time": "2023-05-07T10:56:08.756Z"
   },
   {
    "duration": 46,
    "start_time": "2023-05-07T10:56:10.147Z"
   },
   {
    "duration": 211,
    "start_time": "2023-05-07T10:56:11.901Z"
   },
   {
    "duration": 4,
    "start_time": "2023-05-07T10:56:18.176Z"
   },
   {
    "duration": 1354,
    "start_time": "2023-05-07T10:56:18.185Z"
   },
   {
    "duration": 703,
    "start_time": "2023-05-07T10:56:19.542Z"
   },
   {
    "duration": 17,
    "start_time": "2023-05-07T10:56:20.247Z"
   },
   {
    "duration": 75,
    "start_time": "2023-05-07T10:56:20.266Z"
   },
   {
    "duration": 10,
    "start_time": "2023-05-07T10:56:20.343Z"
   },
   {
    "duration": 23,
    "start_time": "2023-05-07T10:56:20.355Z"
   },
   {
    "duration": 20,
    "start_time": "2023-05-07T10:56:20.381Z"
   },
   {
    "duration": 35,
    "start_time": "2023-05-07T10:56:20.403Z"
   },
   {
    "duration": 20,
    "start_time": "2023-05-07T10:56:20.440Z"
   },
   {
    "duration": 17,
    "start_time": "2023-05-07T10:56:20.463Z"
   },
   {
    "duration": 130,
    "start_time": "2023-05-07T10:56:20.482Z"
   },
   {
    "duration": 75,
    "start_time": "2023-05-07T10:56:20.614Z"
   },
   {
    "duration": 24,
    "start_time": "2023-05-07T10:56:20.691Z"
   },
   {
    "duration": 203,
    "start_time": "2023-05-07T10:56:20.717Z"
   },
   {
    "duration": 33,
    "start_time": "2023-05-07T10:56:20.922Z"
   },
   {
    "duration": 70,
    "start_time": "2023-05-07T10:56:20.957Z"
   },
   {
    "duration": 24,
    "start_time": "2023-05-07T10:56:21.028Z"
   },
   {
    "duration": 22,
    "start_time": "2023-05-07T10:56:21.054Z"
   },
   {
    "duration": 296,
    "start_time": "2023-05-07T10:56:21.078Z"
   },
   {
    "duration": 34,
    "start_time": "2023-05-07T10:56:21.376Z"
   },
   {
    "duration": 9,
    "start_time": "2023-05-07T10:56:21.411Z"
   },
   {
    "duration": 22,
    "start_time": "2023-05-07T10:56:21.440Z"
   },
   {
    "duration": 33,
    "start_time": "2023-05-07T10:56:21.464Z"
   },
   {
    "duration": 14,
    "start_time": "2023-05-07T10:56:21.499Z"
   },
   {
    "duration": 24,
    "start_time": "2023-05-07T10:56:21.515Z"
   },
   {
    "duration": 53,
    "start_time": "2023-05-07T10:56:21.541Z"
   },
   {
    "duration": 14,
    "start_time": "2023-05-07T10:56:21.597Z"
   },
   {
    "duration": 19,
    "start_time": "2023-05-07T10:56:21.617Z"
   },
   {
    "duration": 30,
    "start_time": "2023-05-07T10:56:21.642Z"
   },
   {
    "duration": 23,
    "start_time": "2023-05-07T10:56:21.675Z"
   },
   {
    "duration": 35,
    "start_time": "2023-05-07T10:56:21.700Z"
   },
   {
    "duration": 37,
    "start_time": "2023-05-07T10:56:21.737Z"
   },
   {
    "duration": 15,
    "start_time": "2023-05-07T10:56:21.776Z"
   },
   {
    "duration": 16,
    "start_time": "2023-05-07T10:56:21.793Z"
   },
   {
    "duration": 18,
    "start_time": "2023-05-07T10:56:21.811Z"
   },
   {
    "duration": 19,
    "start_time": "2023-05-07T10:56:21.842Z"
   },
   {
    "duration": 23,
    "start_time": "2023-05-07T10:56:21.863Z"
   },
   {
    "duration": 17,
    "start_time": "2023-05-07T10:56:21.888Z"
   },
   {
    "duration": 44,
    "start_time": "2023-05-07T10:56:21.907Z"
   },
   {
    "duration": 16,
    "start_time": "2023-05-07T10:56:21.953Z"
   },
   {
    "duration": 13,
    "start_time": "2023-05-07T10:56:21.971Z"
   },
   {
    "duration": 12,
    "start_time": "2023-05-07T10:56:21.986Z"
   },
   {
    "duration": 291,
    "start_time": "2023-05-07T10:56:22.000Z"
   },
   {
    "duration": 260,
    "start_time": "2023-05-07T10:56:22.293Z"
   },
   {
    "duration": 21,
    "start_time": "2023-05-07T10:56:22.555Z"
   },
   {
    "duration": 88,
    "start_time": "2023-05-07T10:56:22.578Z"
   },
   {
    "duration": 157,
    "start_time": "2023-05-07T10:56:22.668Z"
   },
   {
    "duration": 55,
    "start_time": "2023-05-07T10:56:22.827Z"
   },
   {
    "duration": 233,
    "start_time": "2023-05-07T10:56:22.884Z"
   },
   {
    "duration": 36,
    "start_time": "2023-05-07T10:56:23.119Z"
   },
   {
    "duration": 31,
    "start_time": "2023-05-07T10:56:23.158Z"
   },
   {
    "duration": 8,
    "start_time": "2023-05-07T10:56:23.191Z"
   },
   {
    "duration": 38,
    "start_time": "2023-05-07T10:56:23.200Z"
   },
   {
    "duration": 62,
    "start_time": "2023-05-07T10:56:23.241Z"
   },
   {
    "duration": 181,
    "start_time": "2023-05-07T10:56:23.305Z"
   },
   {
    "duration": 6,
    "start_time": "2023-05-07T10:56:23.488Z"
   },
   {
    "duration": 70,
    "start_time": "2023-05-07T10:56:23.496Z"
   },
   {
    "duration": 29,
    "start_time": "2023-05-07T10:56:23.569Z"
   },
   {
    "duration": 411,
    "start_time": "2023-05-07T10:56:23.600Z"
   },
   {
    "duration": 32,
    "start_time": "2023-05-07T10:56:24.013Z"
   },
   {
    "duration": 12,
    "start_time": "2023-05-07T10:56:24.047Z"
   },
   {
    "duration": 89,
    "start_time": "2023-05-07T10:56:24.061Z"
   },
   {
    "duration": 5,
    "start_time": "2023-05-07T10:56:24.152Z"
   },
   {
    "duration": 15,
    "start_time": "2023-05-07T10:56:24.159Z"
   },
   {
    "duration": 15,
    "start_time": "2023-05-07T10:56:24.176Z"
   },
   {
    "duration": 11,
    "start_time": "2023-05-07T10:56:24.194Z"
   },
   {
    "duration": 7,
    "start_time": "2023-05-07T10:56:24.241Z"
   },
   {
    "duration": 161,
    "start_time": "2023-05-07T10:56:24.251Z"
   },
   {
    "duration": 27,
    "start_time": "2023-05-07T10:56:24.414Z"
   },
   {
    "duration": 169,
    "start_time": "2023-05-07T10:56:24.444Z"
   },
   {
    "duration": 23,
    "start_time": "2023-05-07T10:59:22.221Z"
   },
   {
    "duration": 159,
    "start_time": "2023-05-07T11:02:06.464Z"
   },
   {
    "duration": 131,
    "start_time": "2023-05-07T11:02:18.842Z"
   },
   {
    "duration": 201,
    "start_time": "2023-05-07T11:04:04.112Z"
   },
   {
    "duration": 199,
    "start_time": "2023-05-07T11:04:20.321Z"
   },
   {
    "duration": 23,
    "start_time": "2023-05-07T11:04:47.736Z"
   },
   {
    "duration": 254,
    "start_time": "2023-05-07T11:07:26.176Z"
   },
   {
    "duration": 158,
    "start_time": "2023-05-07T11:07:56.892Z"
   },
   {
    "duration": 21,
    "start_time": "2023-05-07T11:08:26.283Z"
   },
   {
    "duration": 178,
    "start_time": "2023-05-07T11:08:37.122Z"
   },
   {
    "duration": 161,
    "start_time": "2023-05-07T11:12:20.961Z"
   },
   {
    "duration": 156,
    "start_time": "2023-05-07T11:13:21.361Z"
   },
   {
    "duration": 7,
    "start_time": "2023-05-07T11:14:54.360Z"
   },
   {
    "duration": 170,
    "start_time": "2023-05-07T11:16:45.012Z"
   },
   {
    "duration": 5,
    "start_time": "2023-05-07T11:17:21.118Z"
   },
   {
    "duration": 1003,
    "start_time": "2023-05-07T11:20:16.201Z"
   },
   {
    "duration": 9,
    "start_time": "2023-05-07T11:21:14.261Z"
   },
   {
    "duration": 135,
    "start_time": "2023-05-07T11:21:35.462Z"
   },
   {
    "duration": 134,
    "start_time": "2023-05-07T11:21:50.569Z"
   },
   {
    "duration": 6,
    "start_time": "2023-05-07T11:22:05.093Z"
   },
   {
    "duration": 8,
    "start_time": "2023-05-07T11:23:29.432Z"
   },
   {
    "duration": 8,
    "start_time": "2023-05-07T11:23:34.339Z"
   },
   {
    "duration": 7,
    "start_time": "2023-05-07T11:23:49.652Z"
   },
   {
    "duration": 7,
    "start_time": "2023-05-07T11:24:05.382Z"
   },
   {
    "duration": 5,
    "start_time": "2023-05-07T11:24:14.022Z"
   },
   {
    "duration": 5,
    "start_time": "2023-05-07T11:24:19.231Z"
   },
   {
    "duration": 4,
    "start_time": "2023-05-07T11:28:23.956Z"
   },
   {
    "duration": 6,
    "start_time": "2023-05-07T11:28:24.461Z"
   },
   {
    "duration": 6,
    "start_time": "2023-05-07T11:48:27.892Z"
   },
   {
    "duration": 4,
    "start_time": "2023-05-07T11:50:06.954Z"
   },
   {
    "duration": 6,
    "start_time": "2023-05-07T11:50:07.372Z"
   }
  ],
  "kernelspec": {
   "display_name": "Python 3 (ipykernel)",
   "language": "python",
   "name": "python3"
  },
  "language_info": {
   "codemirror_mode": {
    "name": "ipython",
    "version": 3
   },
   "file_extension": ".py",
   "mimetype": "text/x-python",
   "name": "python",
   "nbconvert_exporter": "python",
   "pygments_lexer": "ipython3",
   "version": "3.9.13"
  },
  "toc": {
   "base_numbering": 1,
   "nav_menu": {},
   "number_sections": true,
   "sideBar": true,
   "skip_h1_title": true,
   "title_cell": "Table of Contents",
   "title_sidebar": "Contents",
   "toc_cell": false,
   "toc_position": {},
   "toc_section_display": true,
   "toc_window_display": false
  }
 },
 "nbformat": 4,
 "nbformat_minor": 5
}
